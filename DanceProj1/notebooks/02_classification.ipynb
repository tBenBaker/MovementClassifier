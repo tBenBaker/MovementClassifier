{
 "cells": [
  {
   "cell_type": "markdown",
   "metadata": {},
   "source": [
    "Imports to featurize and load data"
   ]
  },
  {
   "cell_type": "code",
   "execution_count": 1,
   "metadata": {},
   "outputs": [],
   "source": [
    "import pandas as pd\n",
    "import numpy as np\n",
    "import sys\n",
    "sys.path.append(\"../../\")\n",
    "from DanceProj1.DanceObj import Dance\n",
    "from DanceProj1.data_proc import get_data, data_to_features\n"
   ]
  },
  {
   "cell_type": "markdown",
   "metadata": {},
   "source": [
    "Imports for Automl"
   ]
  },
  {
   "cell_type": "code",
   "execution_count": 2,
   "metadata": {},
   "outputs": [],
   "source": [
    "import autosklearn.classification\n",
    "import sklearn.model_selection\n",
    "from sklearn.model_selection import train_test_split\n",
    "import sklearn.datasets\n",
    "import sklearn.metrics"
   ]
  },
  {
   "cell_type": "code",
   "execution_count": 3,
   "metadata": {},
   "outputs": [
    {
     "name": "stdout",
     "output_type": "stream",
     "text": [
      "autosklearn: 0.15.0\n"
     ]
    }
   ],
   "source": [
    "#make sure autosklearn is here\n",
    "print('autosklearn: %s' % autosklearn.__version__)"
   ]
  },
  {
   "attachments": {},
   "cell_type": "markdown",
   "metadata": {},
   "source": [
    "Data loaded as two dataframes of dances by features, one for basic and one for advanced movement sequences.\n",
    "Comes from AIST. Downloaded all keypoints for Solo dances (Basic and Advanced = BM, FM)"
   ]
  },
  {
   "cell_type": "code",
   "execution_count": 4,
   "metadata": {},
   "outputs": [],
   "source": [
    "aistpath = '../../aist_keypoints'      #path to 3d keypoints data\n",
    "dataBM, dataFM = get_data(aistpath)    #get data\n",
    "dfBasic, dfAdvanced = data_to_features(dataBM, dataFM)  #get features as dataframes\n"
   ]
  },
  {
   "cell_type": "code",
   "execution_count": 5,
   "metadata": {},
   "outputs": [
    {
     "name": "stdout",
     "output_type": "stream",
     "text": [
      "There are 1199 Basic sequences and 200 Advanced sequences\n"
     ]
    }
   ],
   "source": [
    "print('There are', len(dfBasic), 'Basic sequences and', len(dfAdvanced), 'Advanced sequences')"
   ]
  },
  {
   "cell_type": "code",
   "execution_count": 6,
   "metadata": {},
   "outputs": [
    {
     "name": "stdout",
     "output_type": "stream",
     "text": [
      "int64\n"
     ]
    }
   ],
   "source": [
    "print(dfBasic.index.dtype)"
   ]
  },
  {
   "cell_type": "code",
   "execution_count": 7,
   "metadata": {},
   "outputs": [
    {
     "data": {
      "text/html": [
       "<div>\n",
       "<style scoped>\n",
       "    .dataframe tbody tr th:only-of-type {\n",
       "        vertical-align: middle;\n",
       "    }\n",
       "\n",
       "    .dataframe tbody tr th {\n",
       "        vertical-align: top;\n",
       "    }\n",
       "\n",
       "    .dataframe thead th {\n",
       "        text-align: right;\n",
       "    }\n",
       "</style>\n",
       "<table border=\"1\" class=\"dataframe\">\n",
       "  <thead>\n",
       "    <tr style=\"text-align: right;\">\n",
       "      <th></th>\n",
       "      <th>Expandedness</th>\n",
       "      <th>Expandedness_std</th>\n",
       "      <th>Expandednessvel</th>\n",
       "      <th>Expandednessvel_std</th>\n",
       "      <th>Expandednessacc</th>\n",
       "      <th>Expandednessacc_std</th>\n",
       "      <th>Asym_RL_vel</th>\n",
       "      <th>Asym_RL_acc</th>\n",
       "      <th>Asym_RL_jer</th>\n",
       "      <th>Asym_RL_vel_std</th>\n",
       "      <th>...</th>\n",
       "      <th>Contracorr_Relb_Lknee_prominencej2</th>\n",
       "      <th>Contracorr_Relb_Lknee_prominencej3</th>\n",
       "      <th>Contracorr_Relb_Lknee_prominencej_std</th>\n",
       "      <th>Contracorr_Lelb_Rknee_heightjer</th>\n",
       "      <th>Contracorr_Lelb_Rknee_prominencej1</th>\n",
       "      <th>Contracorr_Lelb_Rknee_prominencej2</th>\n",
       "      <th>Contracorr_Lelb_Rknee_prominencej3</th>\n",
       "      <th>Contracorr_Lelb_Rknee_prominencej_std</th>\n",
       "      <th>id</th>\n",
       "      <th>Genre</th>\n",
       "    </tr>\n",
       "  </thead>\n",
       "  <tbody>\n",
       "    <tr>\n",
       "      <th>1199</th>\n",
       "      <td>1065.821287</td>\n",
       "      <td>100.792451</td>\n",
       "      <td>1735.653100</td>\n",
       "      <td>750.213614</td>\n",
       "      <td>8434.501762</td>\n",
       "      <td>3851.117291</td>\n",
       "      <td>2450.308351</td>\n",
       "      <td>669.453048</td>\n",
       "      <td>447.942426</td>\n",
       "      <td>10.535955</td>\n",
       "      <td>...</td>\n",
       "      <td>2.437719e+09</td>\n",
       "      <td>1.671086e+09</td>\n",
       "      <td>3.757403e+08</td>\n",
       "      <td>8.700107e+08</td>\n",
       "      <td>1.874843e+09</td>\n",
       "      <td>1.795367e+09</td>\n",
       "      <td>1.583052e+09</td>\n",
       "      <td>1.231693e+08</td>\n",
       "      <td>gJB_sFM_cAll_d07_mJB2_ch03</td>\n",
       "      <td>Ballet Jazz</td>\n",
       "    </tr>\n",
       "    <tr>\n",
       "      <th>1200</th>\n",
       "      <td>943.558702</td>\n",
       "      <td>94.981145</td>\n",
       "      <td>1440.802249</td>\n",
       "      <td>833.489400</td>\n",
       "      <td>7682.011394</td>\n",
       "      <td>5091.582272</td>\n",
       "      <td>-2047.497225</td>\n",
       "      <td>34163.471185</td>\n",
       "      <td>-241.612173</td>\n",
       "      <td>12.147221</td>\n",
       "      <td>...</td>\n",
       "      <td>1.778878e+09</td>\n",
       "      <td>1.684116e+09</td>\n",
       "      <td>2.406442e+08</td>\n",
       "      <td>8.035391e+09</td>\n",
       "      <td>1.480005e+10</td>\n",
       "      <td>9.934780e+09</td>\n",
       "      <td>6.696022e+09</td>\n",
       "      <td>3.330592e+09</td>\n",
       "      <td>gJB_sFM_cAll_d09_mJB5_ch20</td>\n",
       "      <td>Ballet Jazz</td>\n",
       "    </tr>\n",
       "    <tr>\n",
       "      <th>1201</th>\n",
       "      <td>952.453800</td>\n",
       "      <td>100.915748</td>\n",
       "      <td>1349.334022</td>\n",
       "      <td>759.992458</td>\n",
       "      <td>6434.637824</td>\n",
       "      <td>4151.000950</td>\n",
       "      <td>-33921.557899</td>\n",
       "      <td>1804.898380</td>\n",
       "      <td>-12073.446919</td>\n",
       "      <td>147.646347</td>\n",
       "      <td>...</td>\n",
       "      <td>2.006960e+09</td>\n",
       "      <td>1.939330e+09</td>\n",
       "      <td>4.561662e+08</td>\n",
       "      <td>8.840435e+08</td>\n",
       "      <td>3.678480e+09</td>\n",
       "      <td>3.672786e+09</td>\n",
       "      <td>2.399304e+09</td>\n",
       "      <td>6.016718e+08</td>\n",
       "      <td>gJB_sFM_cAll_d09_mJB1_ch16</td>\n",
       "      <td>Ballet Jazz</td>\n",
       "    </tr>\n",
       "    <tr>\n",
       "      <th>1202</th>\n",
       "      <td>986.565303</td>\n",
       "      <td>106.354552</td>\n",
       "      <td>1250.544711</td>\n",
       "      <td>716.203115</td>\n",
       "      <td>6256.392835</td>\n",
       "      <td>3838.150549</td>\n",
       "      <td>979.998271</td>\n",
       "      <td>-8376.755982</td>\n",
       "      <td>7664.762826</td>\n",
       "      <td>5.987970</td>\n",
       "      <td>...</td>\n",
       "      <td>1.379766e+09</td>\n",
       "      <td>9.206970e+08</td>\n",
       "      <td>3.159570e+08</td>\n",
       "      <td>6.021521e+08</td>\n",
       "      <td>1.457539e+09</td>\n",
       "      <td>1.285451e+09</td>\n",
       "      <td>1.222143e+09</td>\n",
       "      <td>9.946194e+07</td>\n",
       "      <td>gJB_sFM_cAll_d07_mJB4_ch05</td>\n",
       "      <td>Ballet Jazz</td>\n",
       "    </tr>\n",
       "    <tr>\n",
       "      <th>1203</th>\n",
       "      <td>980.392101</td>\n",
       "      <td>120.278649</td>\n",
       "      <td>1298.644834</td>\n",
       "      <td>864.940887</td>\n",
       "      <td>6144.367156</td>\n",
       "      <td>4303.434585</td>\n",
       "      <td>14075.825911</td>\n",
       "      <td>8935.725674</td>\n",
       "      <td>3590.248446</td>\n",
       "      <td>32.039323</td>\n",
       "      <td>...</td>\n",
       "      <td>1.568141e+09</td>\n",
       "      <td>1.418045e+09</td>\n",
       "      <td>9.868579e+07</td>\n",
       "      <td>4.798039e+08</td>\n",
       "      <td>1.410466e+09</td>\n",
       "      <td>1.192128e+09</td>\n",
       "      <td>1.032563e+09</td>\n",
       "      <td>1.548986e+08</td>\n",
       "      <td>gJB_sFM_cAll_d08_mJB0_ch08</td>\n",
       "      <td>Ballet Jazz</td>\n",
       "    </tr>\n",
       "  </tbody>\n",
       "</table>\n",
       "<p>5 rows × 106 columns</p>\n",
       "</div>"
      ],
      "text/plain": [
       "      Expandedness  Expandedness_std  Expandednessvel  Expandednessvel_std  \\\n",
       "1199   1065.821287        100.792451      1735.653100           750.213614   \n",
       "1200    943.558702         94.981145      1440.802249           833.489400   \n",
       "1201    952.453800        100.915748      1349.334022           759.992458   \n",
       "1202    986.565303        106.354552      1250.544711           716.203115   \n",
       "1203    980.392101        120.278649      1298.644834           864.940887   \n",
       "\n",
       "      Expandednessacc  Expandednessacc_std   Asym_RL_vel   Asym_RL_acc  \\\n",
       "1199      8434.501762          3851.117291   2450.308351    669.453048   \n",
       "1200      7682.011394          5091.582272  -2047.497225  34163.471185   \n",
       "1201      6434.637824          4151.000950 -33921.557899   1804.898380   \n",
       "1202      6256.392835          3838.150549    979.998271  -8376.755982   \n",
       "1203      6144.367156          4303.434585  14075.825911   8935.725674   \n",
       "\n",
       "       Asym_RL_jer  Asym_RL_vel_std  ...  Contracorr_Relb_Lknee_prominencej2  \\\n",
       "1199    447.942426        10.535955  ...                        2.437719e+09   \n",
       "1200   -241.612173        12.147221  ...                        1.778878e+09   \n",
       "1201 -12073.446919       147.646347  ...                        2.006960e+09   \n",
       "1202   7664.762826         5.987970  ...                        1.379766e+09   \n",
       "1203   3590.248446        32.039323  ...                        1.568141e+09   \n",
       "\n",
       "      Contracorr_Relb_Lknee_prominencej3  \\\n",
       "1199                        1.671086e+09   \n",
       "1200                        1.684116e+09   \n",
       "1201                        1.939330e+09   \n",
       "1202                        9.206970e+08   \n",
       "1203                        1.418045e+09   \n",
       "\n",
       "      Contracorr_Relb_Lknee_prominencej_std  Contracorr_Lelb_Rknee_heightjer  \\\n",
       "1199                           3.757403e+08                     8.700107e+08   \n",
       "1200                           2.406442e+08                     8.035391e+09   \n",
       "1201                           4.561662e+08                     8.840435e+08   \n",
       "1202                           3.159570e+08                     6.021521e+08   \n",
       "1203                           9.868579e+07                     4.798039e+08   \n",
       "\n",
       "      Contracorr_Lelb_Rknee_prominencej1  Contracorr_Lelb_Rknee_prominencej2  \\\n",
       "1199                        1.874843e+09                        1.795367e+09   \n",
       "1200                        1.480005e+10                        9.934780e+09   \n",
       "1201                        3.678480e+09                        3.672786e+09   \n",
       "1202                        1.457539e+09                        1.285451e+09   \n",
       "1203                        1.410466e+09                        1.192128e+09   \n",
       "\n",
       "      Contracorr_Lelb_Rknee_prominencej3  \\\n",
       "1199                        1.583052e+09   \n",
       "1200                        6.696022e+09   \n",
       "1201                        2.399304e+09   \n",
       "1202                        1.222143e+09   \n",
       "1203                        1.032563e+09   \n",
       "\n",
       "      Contracorr_Lelb_Rknee_prominencej_std                          id  \\\n",
       "1199                           1.231693e+08  gJB_sFM_cAll_d07_mJB2_ch03   \n",
       "1200                           3.330592e+09  gJB_sFM_cAll_d09_mJB5_ch20   \n",
       "1201                           6.016718e+08  gJB_sFM_cAll_d09_mJB1_ch16   \n",
       "1202                           9.946194e+07  gJB_sFM_cAll_d07_mJB4_ch05   \n",
       "1203                           1.548986e+08  gJB_sFM_cAll_d08_mJB0_ch08   \n",
       "\n",
       "            Genre  \n",
       "1199  Ballet Jazz  \n",
       "1200  Ballet Jazz  \n",
       "1201  Ballet Jazz  \n",
       "1202  Ballet Jazz  \n",
       "1203  Ballet Jazz  \n",
       "\n",
       "[5 rows x 106 columns]"
      ]
     },
     "execution_count": 7,
     "metadata": {},
     "output_type": "execute_result"
    }
   ],
   "source": [
    "#alphabetize dfs by genre (to avoid reordering by classifiers later)\n",
    "dfAdvanced = dfAdvanced.sort_values(by='Genre')\n",
    "\n",
    "#make new indexes for Advanced, starting after last index in Basic, for unique index per id\n",
    "#this is so that Basic and Adv indexes dont overlap.\n",
    "dfAdvanced.index = range(len(dfBasic.index), len(dfBasic.index)+len(dfAdvanced.index))\n",
    "dfAdvanced.head() "
   ]
  },
  {
   "attachments": {},
   "cell_type": "markdown",
   "metadata": {},
   "source": [
    "Test set is to be composed only of Advanced dances. This is because each Basic Movement has several, slightly modified versions of the same movement. Thus the problem is more general and more comparable to human genre judging if the test set is Advanced only. Below is a custom splitting function (see data_proc). I used it here for for getting a Test set that is composed entired of Advanced dances. \n",
    "\n",
    "Validation/calibration set complicates things, it can include either only Adv, or both.    \n",
    "   \n",
    "auto-sklearn improves from having a validation set with both (I tried 2 Adv and 14 Basic x 10 genres for calibration). XGBoost seems to do worse with a calibration split, so here it is zeroed it for simplicity and performance.  \n",
    "\n",
    "   \n"
   ]
  },
  {
   "cell_type": "code",
   "execution_count": 8,
   "metadata": {},
   "outputs": [],
   "source": [
    "from DanceProj1.data_proc import traintestval_split\n",
    "train, valid, testset = traintestval_split(dfBasic, dfAdvanced, testfrac_adv=.502, testfrac_bas=0, valfrac_adv_nonT=0, valfrac_bas=0)\n",
    "#trying with empty validation/calibration set, since XGB wasn't helped by calibration"
   ]
  },
  {
   "cell_type": "code",
   "execution_count": 9,
   "metadata": {},
   "outputs": [
    {
     "name": "stdout",
     "output_type": "stream",
     "text": [
      "103 0 1296\n"
     ]
    }
   ],
   "source": [
    "print(len(testset), len(valid), len(train))"
   ]
  },
  {
   "cell_type": "code",
   "execution_count": 10,
   "metadata": {},
   "outputs": [
    {
     "data": {
      "text/html": [
       "<div>\n",
       "<style scoped>\n",
       "    .dataframe tbody tr th:only-of-type {\n",
       "        vertical-align: middle;\n",
       "    }\n",
       "\n",
       "    .dataframe tbody tr th {\n",
       "        vertical-align: top;\n",
       "    }\n",
       "\n",
       "    .dataframe thead th {\n",
       "        text-align: right;\n",
       "    }\n",
       "</style>\n",
       "<table border=\"1\" class=\"dataframe\">\n",
       "  <thead>\n",
       "    <tr style=\"text-align: right;\">\n",
       "      <th></th>\n",
       "      <th>Expandedness</th>\n",
       "      <th>Expandedness_std</th>\n",
       "      <th>Expandednessvel</th>\n",
       "      <th>Expandednessvel_std</th>\n",
       "      <th>Expandednessacc</th>\n",
       "      <th>Expandednessacc_std</th>\n",
       "      <th>Asym_RL_vel</th>\n",
       "      <th>Asym_RL_acc</th>\n",
       "      <th>Asym_RL_jer</th>\n",
       "      <th>Asym_RL_vel_std</th>\n",
       "      <th>...</th>\n",
       "      <th>Contracorr_Relb_Lknee_prominencej2</th>\n",
       "      <th>Contracorr_Relb_Lknee_prominencej3</th>\n",
       "      <th>Contracorr_Relb_Lknee_prominencej_std</th>\n",
       "      <th>Contracorr_Lelb_Rknee_heightjer</th>\n",
       "      <th>Contracorr_Lelb_Rknee_prominencej1</th>\n",
       "      <th>Contracorr_Lelb_Rknee_prominencej2</th>\n",
       "      <th>Contracorr_Lelb_Rknee_prominencej3</th>\n",
       "      <th>Contracorr_Lelb_Rknee_prominencej_std</th>\n",
       "      <th>id</th>\n",
       "      <th>Genre</th>\n",
       "    </tr>\n",
       "  </thead>\n",
       "  <tbody>\n",
       "    <tr>\n",
       "      <th>1202</th>\n",
       "      <td>986.565303</td>\n",
       "      <td>106.354552</td>\n",
       "      <td>1250.544711</td>\n",
       "      <td>716.203115</td>\n",
       "      <td>6256.392835</td>\n",
       "      <td>3838.150549</td>\n",
       "      <td>979.998271</td>\n",
       "      <td>-8376.755982</td>\n",
       "      <td>7664.762826</td>\n",
       "      <td>5.987970</td>\n",
       "      <td>...</td>\n",
       "      <td>1.379766e+09</td>\n",
       "      <td>9.206970e+08</td>\n",
       "      <td>3.159570e+08</td>\n",
       "      <td>6.021521e+08</td>\n",
       "      <td>1.457539e+09</td>\n",
       "      <td>1.285451e+09</td>\n",
       "      <td>1.222143e+09</td>\n",
       "      <td>9.946194e+07</td>\n",
       "      <td>gJB_sFM_cAll_d07_mJB4_ch05</td>\n",
       "      <td>Ballet Jazz</td>\n",
       "    </tr>\n",
       "    <tr>\n",
       "      <th>1215</th>\n",
       "      <td>952.230629</td>\n",
       "      <td>103.339482</td>\n",
       "      <td>1173.811693</td>\n",
       "      <td>590.516327</td>\n",
       "      <td>5529.458983</td>\n",
       "      <td>2822.475105</td>\n",
       "      <td>-3101.460326</td>\n",
       "      <td>-3842.680385</td>\n",
       "      <td>-18763.210259</td>\n",
       "      <td>13.561335</td>\n",
       "      <td>...</td>\n",
       "      <td>7.749144e+08</td>\n",
       "      <td>6.417610e+08</td>\n",
       "      <td>3.189269e+08</td>\n",
       "      <td>1.187765e+08</td>\n",
       "      <td>9.508543e+08</td>\n",
       "      <td>7.796116e+08</td>\n",
       "      <td>6.957601e+08</td>\n",
       "      <td>1.061593e+08</td>\n",
       "      <td>gJB_sFM_cAll_d09_mJB2_ch17</td>\n",
       "      <td>Ballet Jazz</td>\n",
       "    </tr>\n",
       "    <tr>\n",
       "      <th>1205</th>\n",
       "      <td>932.590413</td>\n",
       "      <td>94.804736</td>\n",
       "      <td>1282.528269</td>\n",
       "      <td>711.093652</td>\n",
       "      <td>6148.346089</td>\n",
       "      <td>3447.588866</td>\n",
       "      <td>2243.048419</td>\n",
       "      <td>1894.560172</td>\n",
       "      <td>-653.568847</td>\n",
       "      <td>13.919868</td>\n",
       "      <td>...</td>\n",
       "      <td>1.022966e+09</td>\n",
       "      <td>9.799378e+08</td>\n",
       "      <td>3.563037e+07</td>\n",
       "      <td>8.464226e+07</td>\n",
       "      <td>7.898079e+08</td>\n",
       "      <td>7.237448e+08</td>\n",
       "      <td>6.997294e+08</td>\n",
       "      <td>3.808648e+07</td>\n",
       "      <td>gJB_sFM_cAll_d09_mJB3_ch18</td>\n",
       "      <td>Ballet Jazz</td>\n",
       "    </tr>\n",
       "    <tr>\n",
       "      <th>1209</th>\n",
       "      <td>993.748996</td>\n",
       "      <td>103.039502</td>\n",
       "      <td>1416.203426</td>\n",
       "      <td>661.718615</td>\n",
       "      <td>7210.700847</td>\n",
       "      <td>3842.351906</td>\n",
       "      <td>3191.516434</td>\n",
       "      <td>774.029072</td>\n",
       "      <td>10412.852893</td>\n",
       "      <td>8.008625</td>\n",
       "      <td>...</td>\n",
       "      <td>2.287331e+09</td>\n",
       "      <td>1.620000e+09</td>\n",
       "      <td>4.419914e+08</td>\n",
       "      <td>4.312722e+08</td>\n",
       "      <td>2.998522e+09</td>\n",
       "      <td>2.737176e+09</td>\n",
       "      <td>2.265183e+09</td>\n",
       "      <td>3.034734e+08</td>\n",
       "      <td>gJB_sFM_cAll_d07_mJB0_ch01</td>\n",
       "      <td>Ballet Jazz</td>\n",
       "    </tr>\n",
       "    <tr>\n",
       "      <th>1201</th>\n",
       "      <td>952.453800</td>\n",
       "      <td>100.915748</td>\n",
       "      <td>1349.334022</td>\n",
       "      <td>759.992458</td>\n",
       "      <td>6434.637824</td>\n",
       "      <td>4151.000950</td>\n",
       "      <td>-33921.557899</td>\n",
       "      <td>1804.898380</td>\n",
       "      <td>-12073.446919</td>\n",
       "      <td>147.646347</td>\n",
       "      <td>...</td>\n",
       "      <td>2.006960e+09</td>\n",
       "      <td>1.939330e+09</td>\n",
       "      <td>4.561662e+08</td>\n",
       "      <td>8.840435e+08</td>\n",
       "      <td>3.678480e+09</td>\n",
       "      <td>3.672786e+09</td>\n",
       "      <td>2.399304e+09</td>\n",
       "      <td>6.016718e+08</td>\n",
       "      <td>gJB_sFM_cAll_d09_mJB1_ch16</td>\n",
       "      <td>Ballet Jazz</td>\n",
       "    </tr>\n",
       "    <tr>\n",
       "      <th>...</th>\n",
       "      <td>...</td>\n",
       "      <td>...</td>\n",
       "      <td>...</td>\n",
       "      <td>...</td>\n",
       "      <td>...</td>\n",
       "      <td>...</td>\n",
       "      <td>...</td>\n",
       "      <td>...</td>\n",
       "      <td>...</td>\n",
       "      <td>...</td>\n",
       "      <td>...</td>\n",
       "      <td>...</td>\n",
       "      <td>...</td>\n",
       "      <td>...</td>\n",
       "      <td>...</td>\n",
       "      <td>...</td>\n",
       "      <td>...</td>\n",
       "      <td>...</td>\n",
       "      <td>...</td>\n",
       "      <td>...</td>\n",
       "      <td>...</td>\n",
       "    </tr>\n",
       "    <tr>\n",
       "      <th>1393</th>\n",
       "      <td>929.157439</td>\n",
       "      <td>76.353702</td>\n",
       "      <td>946.698851</td>\n",
       "      <td>476.445635</td>\n",
       "      <td>4656.507414</td>\n",
       "      <td>2610.520235</td>\n",
       "      <td>-7160.668144</td>\n",
       "      <td>21213.727168</td>\n",
       "      <td>-2148.497756</td>\n",
       "      <td>33.989235</td>\n",
       "      <td>...</td>\n",
       "      <td>6.633821e+08</td>\n",
       "      <td>6.341962e+08</td>\n",
       "      <td>4.136562e+07</td>\n",
       "      <td>2.113286e+08</td>\n",
       "      <td>3.970473e+08</td>\n",
       "      <td>3.117094e+08</td>\n",
       "      <td>2.537238e+08</td>\n",
       "      <td>5.886568e+07</td>\n",
       "      <td>gWA_sFM_cAll_d26_mWA4_ch12</td>\n",
       "      <td>Waack</td>\n",
       "    </tr>\n",
       "    <tr>\n",
       "      <th>1383</th>\n",
       "      <td>941.227338</td>\n",
       "      <td>79.309556</td>\n",
       "      <td>889.845354</td>\n",
       "      <td>332.760901</td>\n",
       "      <td>4440.282905</td>\n",
       "      <td>1499.912367</td>\n",
       "      <td>-2640.322744</td>\n",
       "      <td>4483.409450</td>\n",
       "      <td>-2890.444383</td>\n",
       "      <td>27.653056</td>\n",
       "      <td>...</td>\n",
       "      <td>3.665612e+08</td>\n",
       "      <td>3.107777e+08</td>\n",
       "      <td>3.406284e+07</td>\n",
       "      <td>3.639939e+08</td>\n",
       "      <td>7.809241e+08</td>\n",
       "      <td>6.589046e+08</td>\n",
       "      <td>6.146852e+08</td>\n",
       "      <td>7.030053e+07</td>\n",
       "      <td>gWA_sFM_cAll_d25_mWA1_ch02</td>\n",
       "      <td>Waack</td>\n",
       "    </tr>\n",
       "    <tr>\n",
       "      <th>1396</th>\n",
       "      <td>939.923978</td>\n",
       "      <td>68.239028</td>\n",
       "      <td>818.119115</td>\n",
       "      <td>372.186346</td>\n",
       "      <td>4164.762921</td>\n",
       "      <td>1884.353540</td>\n",
       "      <td>1088.842497</td>\n",
       "      <td>-11746.619719</td>\n",
       "      <td>10268.622584</td>\n",
       "      <td>5.731486</td>\n",
       "      <td>...</td>\n",
       "      <td>4.018333e+08</td>\n",
       "      <td>3.521439e+08</td>\n",
       "      <td>4.207317e+07</td>\n",
       "      <td>3.893858e+08</td>\n",
       "      <td>6.366089e+08</td>\n",
       "      <td>3.988821e+08</td>\n",
       "      <td>3.756609e+08</td>\n",
       "      <td>1.179205e+08</td>\n",
       "      <td>gWA_sFM_cAll_d27_mWA3_ch18</td>\n",
       "      <td>Waack</td>\n",
       "    </tr>\n",
       "    <tr>\n",
       "      <th>1386</th>\n",
       "      <td>971.873367</td>\n",
       "      <td>85.244858</td>\n",
       "      <td>1219.249706</td>\n",
       "      <td>475.971266</td>\n",
       "      <td>6437.832042</td>\n",
       "      <td>2477.818172</td>\n",
       "      <td>72.212928</td>\n",
       "      <td>2681.111962</td>\n",
       "      <td>1903.947720</td>\n",
       "      <td>10.636455</td>\n",
       "      <td>...</td>\n",
       "      <td>9.909399e+08</td>\n",
       "      <td>9.636795e+08</td>\n",
       "      <td>1.090725e+08</td>\n",
       "      <td>5.792683e+08</td>\n",
       "      <td>9.791640e+08</td>\n",
       "      <td>6.271363e+08</td>\n",
       "      <td>5.059277e+08</td>\n",
       "      <td>2.007120e+08</td>\n",
       "      <td>gWA_sFM_cAll_d25_mWA5_ch06</td>\n",
       "      <td>Waack</td>\n",
       "    </tr>\n",
       "    <tr>\n",
       "      <th>1380</th>\n",
       "      <td>941.793533</td>\n",
       "      <td>64.241760</td>\n",
       "      <td>970.011449</td>\n",
       "      <td>304.151699</td>\n",
       "      <td>4950.101069</td>\n",
       "      <td>1593.654187</td>\n",
       "      <td>3389.295081</td>\n",
       "      <td>-1415.354307</td>\n",
       "      <td>127.284282</td>\n",
       "      <td>8.127806</td>\n",
       "      <td>...</td>\n",
       "      <td>6.031551e+08</td>\n",
       "      <td>5.971700e+08</td>\n",
       "      <td>2.528018e+07</td>\n",
       "      <td>8.708665e+06</td>\n",
       "      <td>7.830379e+08</td>\n",
       "      <td>7.172977e+08</td>\n",
       "      <td>5.185018e+08</td>\n",
       "      <td>1.124579e+08</td>\n",
       "      <td>gWA_sFM_cAll_d26_mWA1_ch09</td>\n",
       "      <td>Waack</td>\n",
       "    </tr>\n",
       "  </tbody>\n",
       "</table>\n",
       "<p>97 rows × 106 columns</p>\n",
       "</div>"
      ],
      "text/plain": [
       "      Expandedness  Expandedness_std  Expandednessvel  Expandednessvel_std  \\\n",
       "1202    986.565303        106.354552      1250.544711           716.203115   \n",
       "1215    952.230629        103.339482      1173.811693           590.516327   \n",
       "1205    932.590413         94.804736      1282.528269           711.093652   \n",
       "1209    993.748996        103.039502      1416.203426           661.718615   \n",
       "1201    952.453800        100.915748      1349.334022           759.992458   \n",
       "...            ...               ...              ...                  ...   \n",
       "1393    929.157439         76.353702       946.698851           476.445635   \n",
       "1383    941.227338         79.309556       889.845354           332.760901   \n",
       "1396    939.923978         68.239028       818.119115           372.186346   \n",
       "1386    971.873367         85.244858      1219.249706           475.971266   \n",
       "1380    941.793533         64.241760       970.011449           304.151699   \n",
       "\n",
       "      Expandednessacc  Expandednessacc_std   Asym_RL_vel   Asym_RL_acc  \\\n",
       "1202      6256.392835          3838.150549    979.998271  -8376.755982   \n",
       "1215      5529.458983          2822.475105  -3101.460326  -3842.680385   \n",
       "1205      6148.346089          3447.588866   2243.048419   1894.560172   \n",
       "1209      7210.700847          3842.351906   3191.516434    774.029072   \n",
       "1201      6434.637824          4151.000950 -33921.557899   1804.898380   \n",
       "...               ...                  ...           ...           ...   \n",
       "1393      4656.507414          2610.520235  -7160.668144  21213.727168   \n",
       "1383      4440.282905          1499.912367  -2640.322744   4483.409450   \n",
       "1396      4164.762921          1884.353540   1088.842497 -11746.619719   \n",
       "1386      6437.832042          2477.818172     72.212928   2681.111962   \n",
       "1380      4950.101069          1593.654187   3389.295081  -1415.354307   \n",
       "\n",
       "       Asym_RL_jer  Asym_RL_vel_std  ...  Contracorr_Relb_Lknee_prominencej2  \\\n",
       "1202   7664.762826         5.987970  ...                        1.379766e+09   \n",
       "1215 -18763.210259        13.561335  ...                        7.749144e+08   \n",
       "1205   -653.568847        13.919868  ...                        1.022966e+09   \n",
       "1209  10412.852893         8.008625  ...                        2.287331e+09   \n",
       "1201 -12073.446919       147.646347  ...                        2.006960e+09   \n",
       "...            ...              ...  ...                                 ...   \n",
       "1393  -2148.497756        33.989235  ...                        6.633821e+08   \n",
       "1383  -2890.444383        27.653056  ...                        3.665612e+08   \n",
       "1396  10268.622584         5.731486  ...                        4.018333e+08   \n",
       "1386   1903.947720        10.636455  ...                        9.909399e+08   \n",
       "1380    127.284282         8.127806  ...                        6.031551e+08   \n",
       "\n",
       "      Contracorr_Relb_Lknee_prominencej3  \\\n",
       "1202                        9.206970e+08   \n",
       "1215                        6.417610e+08   \n",
       "1205                        9.799378e+08   \n",
       "1209                        1.620000e+09   \n",
       "1201                        1.939330e+09   \n",
       "...                                  ...   \n",
       "1393                        6.341962e+08   \n",
       "1383                        3.107777e+08   \n",
       "1396                        3.521439e+08   \n",
       "1386                        9.636795e+08   \n",
       "1380                        5.971700e+08   \n",
       "\n",
       "      Contracorr_Relb_Lknee_prominencej_std  Contracorr_Lelb_Rknee_heightjer  \\\n",
       "1202                           3.159570e+08                     6.021521e+08   \n",
       "1215                           3.189269e+08                     1.187765e+08   \n",
       "1205                           3.563037e+07                     8.464226e+07   \n",
       "1209                           4.419914e+08                     4.312722e+08   \n",
       "1201                           4.561662e+08                     8.840435e+08   \n",
       "...                                     ...                              ...   \n",
       "1393                           4.136562e+07                     2.113286e+08   \n",
       "1383                           3.406284e+07                     3.639939e+08   \n",
       "1396                           4.207317e+07                     3.893858e+08   \n",
       "1386                           1.090725e+08                     5.792683e+08   \n",
       "1380                           2.528018e+07                     8.708665e+06   \n",
       "\n",
       "      Contracorr_Lelb_Rknee_prominencej1  Contracorr_Lelb_Rknee_prominencej2  \\\n",
       "1202                        1.457539e+09                        1.285451e+09   \n",
       "1215                        9.508543e+08                        7.796116e+08   \n",
       "1205                        7.898079e+08                        7.237448e+08   \n",
       "1209                        2.998522e+09                        2.737176e+09   \n",
       "1201                        3.678480e+09                        3.672786e+09   \n",
       "...                                  ...                                 ...   \n",
       "1393                        3.970473e+08                        3.117094e+08   \n",
       "1383                        7.809241e+08                        6.589046e+08   \n",
       "1396                        6.366089e+08                        3.988821e+08   \n",
       "1386                        9.791640e+08                        6.271363e+08   \n",
       "1380                        7.830379e+08                        7.172977e+08   \n",
       "\n",
       "      Contracorr_Lelb_Rknee_prominencej3  \\\n",
       "1202                        1.222143e+09   \n",
       "1215                        6.957601e+08   \n",
       "1205                        6.997294e+08   \n",
       "1209                        2.265183e+09   \n",
       "1201                        2.399304e+09   \n",
       "...                                  ...   \n",
       "1393                        2.537238e+08   \n",
       "1383                        6.146852e+08   \n",
       "1396                        3.756609e+08   \n",
       "1386                        5.059277e+08   \n",
       "1380                        5.185018e+08   \n",
       "\n",
       "      Contracorr_Lelb_Rknee_prominencej_std                          id  \\\n",
       "1202                           9.946194e+07  gJB_sFM_cAll_d07_mJB4_ch05   \n",
       "1215                           1.061593e+08  gJB_sFM_cAll_d09_mJB2_ch17   \n",
       "1205                           3.808648e+07  gJB_sFM_cAll_d09_mJB3_ch18   \n",
       "1209                           3.034734e+08  gJB_sFM_cAll_d07_mJB0_ch01   \n",
       "1201                           6.016718e+08  gJB_sFM_cAll_d09_mJB1_ch16   \n",
       "...                                     ...                         ...   \n",
       "1393                           5.886568e+07  gWA_sFM_cAll_d26_mWA4_ch12   \n",
       "1383                           7.030053e+07  gWA_sFM_cAll_d25_mWA1_ch02   \n",
       "1396                           1.179205e+08  gWA_sFM_cAll_d27_mWA3_ch18   \n",
       "1386                           2.007120e+08  gWA_sFM_cAll_d25_mWA5_ch06   \n",
       "1380                           1.124579e+08  gWA_sFM_cAll_d26_mWA1_ch09   \n",
       "\n",
       "            Genre  \n",
       "1202  Ballet Jazz  \n",
       "1215  Ballet Jazz  \n",
       "1205  Ballet Jazz  \n",
       "1209  Ballet Jazz  \n",
       "1201  Ballet Jazz  \n",
       "...           ...  \n",
       "1393        Waack  \n",
       "1383        Waack  \n",
       "1396        Waack  \n",
       "1386        Waack  \n",
       "1380        Waack  \n",
       "\n",
       "[97 rows x 106 columns]"
      ]
     },
     "execution_count": 10,
     "metadata": {},
     "output_type": "execute_result"
    }
   ],
   "source": [
    "testsetX = pd.DataFrame(columns=dfAdvanced.columns)\n",
    "Genres = list(dfAdvanced.Genre.unique())        #get list of genres\n",
    "for genre in Genres:                        #for each genre\n",
    "    test_adv = dfAdvanced.loc[dfAdvanced.Genre == genre].sample(frac=.5, random_state=1) #get 50% of advanced dances\n",
    "    testsetX = pd.concat([testsetX, test_adv])        #add to testset \n",
    "    \n",
    "testsetX\n"
   ]
  },
  {
   "cell_type": "markdown",
   "metadata": {},
   "source": [
    "The dfs above include ID, for later evaluation. This column should be removed from input.  \n",
    "\n",
    "traintestval_split also includes genre, which is our target label in this classification task and should accordingly be removed from x and used for y."
   ]
  },
  {
   "cell_type": "code",
   "execution_count": 11,
   "metadata": {},
   "outputs": [],
   "source": [
    "test_ids = testset['id']\n",
    "index_lookup = pd.DataFrame(\n",
    "               testset.index, columns=['original_index']) #lookup table for original index\n",
    "\n",
    "X_test = testset.drop(['Genre'], axis=1).drop(['id'], axis=1)\n",
    "y_test = testset['Genre']\n",
    "\n",
    "X_valid = valid.drop(['Genre'], axis=1).drop(['id'], axis=1)\n",
    "y_valid = valid['Genre']\n",
    "\n",
    "X_train = train.drop(['Genre'], axis=1).drop(['id'], axis=1)\n",
    "y_train = train['Genre']"
   ]
  },
  {
   "cell_type": "code",
   "execution_count": 12,
   "metadata": {},
   "outputs": [
    {
     "data": {
      "text/plain": [
       "Int64Index([1202, 1215, 1205, 1209, 1201, 1213, 1203, 1216, 1206, 1200,\n",
       "            ...\n",
       "            1382, 1395, 1385, 1389, 1381, 1393, 1383, 1396, 1386, 1380],\n",
       "           dtype='int64', length=103)"
      ]
     },
     "execution_count": 12,
     "metadata": {},
     "output_type": "execute_result"
    }
   ],
   "source": [
    "X_test.index"
   ]
  },
  {
   "cell_type": "code",
   "execution_count": 13,
   "metadata": {},
   "outputs": [],
   "source": [
    "#save test ids to csv\n",
    "#test_ids.to_csv('test_ids.csv', index=False)"
   ]
  },
  {
   "cell_type": "code",
   "execution_count": 14,
   "metadata": {},
   "outputs": [
    {
     "name": "stdout",
     "output_type": "stream",
     "text": [
      "(1296, 104)\n",
      "(103, 104)\n",
      "(0, 104)\n",
      "(0,)\n",
      "(1296,)\n",
      "(103,)\n"
     ]
    }
   ],
   "source": [
    "# check the shape \n",
    "for item in [X_train, X_test, X_valid, y_valid, y_train, y_test]:\n",
    "  print(item.shape)"
   ]
  },
  {
   "cell_type": "code",
   "execution_count": 15,
   "metadata": {},
   "outputs": [
    {
     "name": "stdout",
     "output_type": "stream",
     "text": [
      "['Ballet Jazz', 'Break', 'House', 'Krump', 'LAhop', 'Lock', 'Midhop', 'Pop', 'Street Jazz', 'Waack']\n"
     ]
    }
   ],
   "source": [
    "labels = list(y_test.unique())\n",
    "print(labels)"
   ]
  },
  {
   "attachments": {},
   "cell_type": "markdown",
   "metadata": {},
   "source": [
    "Let's see how a Perceptron does, no tuning"
   ]
  },
  {
   "cell_type": "code",
   "execution_count": 16,
   "metadata": {},
   "outputs": [],
   "source": [
    "# from sklearn.linear_model import Perceptron\n",
    "# preg = Perceptron(tol=.05, max_iter=2000, alpha=.00001).fit(X_train, y_train)\n",
    "# print('Perceptron is at chance: Score =', preg.score(X_test, y_test))"
   ]
  },
  {
   "attachments": {},
   "cell_type": "markdown",
   "metadata": {},
   "source": [
    "Let's see how a Ridge Classifier does, no tuning "
   ]
  },
  {
   "cell_type": "code",
   "execution_count": 17,
   "metadata": {},
   "outputs": [],
   "source": [
    "# #Let's see how a ridge classifier does, no parameter tuning\n",
    "# from sklearn.linear_model import RidgeClassifier\n",
    "# rreg = RidgeClassifier().fit(X_train, y_train)\n",
    "# print('RidgeClassifier is better than chance, but not great. Score =',rreg.score(X_test, y_test))"
   ]
  },
  {
   "cell_type": "markdown",
   "metadata": {},
   "source": [
    "Let's see how XGBoost does"
   ]
  },
  {
   "cell_type": "code",
   "execution_count": 18,
   "metadata": {},
   "outputs": [
    {
     "name": "stdout",
     "output_type": "stream",
     "text": [
      "[('Ballet Jazz', 0), ('Break', 1), ('House', 2), ('Krump', 3), ('LAhop', 4), ('Lock', 5), ('Midhop', 6), ('Pop', 7), ('Street Jazz', 8), ('Waack', 9)]\n"
     ]
    }
   ],
   "source": [
    "#convert to numeric labelsfor xgb\n",
    "labels = list(y_test.unique())\n",
    "\n",
    "y_trainxgb = y_train.replace(labels, list(range(len(labels))), regex=True)\n",
    "y_validxgb = y_valid.replace(labels, list(range(len(labels))), regex=True)\n",
    "y_testxgb = y_test.replace(labels, list(range(len(labels))), regex=True)\n",
    "X_testxgb = X_test.replace(labels, list(range(len(labels))), regex=True)\n",
    "\n",
    "print(list(zip(y_test.unique(), y_testxgb.unique())))"
   ]
  },
  {
   "cell_type": "code",
   "execution_count": 33,
   "metadata": {},
   "outputs": [
    {
     "name": "stdout",
     "output_type": "stream",
     "text": [
      "XGBoost is not bad. Score = 0.6407766990291263\n"
     ]
    }
   ],
   "source": [
    "import xgboost as xgb\n",
    "#xgb_mod = xgb.XGBClassifier(objective='multi:softprob', eta =.2, max_depth =8, subsample =.6, random_state=42, n_jobs=16) #learning rate, max depth and subsample tuned empirically\n",
    "xgb_mod = xgb.XGBClassifier(objective='multi:softprob', eta =.2, max_depth =8, subsample=.6, random_state=42, n_jobs=16) #learning rate, max depth and subsample tuned empirically\n",
    "xgb_mod.fit(X_train, y_trainxgb)\n",
    "print('XGBoost is not bad. Score =',xgb_mod.score(X_test, y_testxgb))"
   ]
  },
  {
   "cell_type": "code",
   "execution_count": 30,
   "metadata": {},
   "outputs": [
    {
     "data": {
      "text/html": [
       "<div>\n",
       "<style scoped>\n",
       "    .dataframe tbody tr th:only-of-type {\n",
       "        vertical-align: middle;\n",
       "    }\n",
       "\n",
       "    .dataframe tbody tr th {\n",
       "        vertical-align: top;\n",
       "    }\n",
       "\n",
       "    .dataframe thead th {\n",
       "        text-align: right;\n",
       "    }\n",
       "</style>\n",
       "<table border=\"1\" class=\"dataframe\">\n",
       "  <thead>\n",
       "    <tr style=\"text-align: right;\">\n",
       "      <th></th>\n",
       "      <th>Ballet Jazz</th>\n",
       "      <th>Break</th>\n",
       "      <th>House</th>\n",
       "      <th>Krump</th>\n",
       "      <th>LAhop</th>\n",
       "      <th>Lock</th>\n",
       "      <th>Midhop</th>\n",
       "      <th>Pop</th>\n",
       "      <th>Street Jazz</th>\n",
       "      <th>Waack</th>\n",
       "      <th>Original Index</th>\n",
       "      <th>True_Label</th>\n",
       "      <th>id</th>\n",
       "    </tr>\n",
       "  </thead>\n",
       "  <tbody>\n",
       "    <tr>\n",
       "      <th>0</th>\n",
       "      <td>0.083456</td>\n",
       "      <td>0.047125</td>\n",
       "      <td>0.017449</td>\n",
       "      <td>0.139542</td>\n",
       "      <td>0.034027</td>\n",
       "      <td>0.556116</td>\n",
       "      <td>0.008002</td>\n",
       "      <td>0.005815</td>\n",
       "      <td>0.093140</td>\n",
       "      <td>0.015329</td>\n",
       "      <td>1202</td>\n",
       "      <td>Ballet Jazz</td>\n",
       "      <td>gJB_sFM_cAll_d07_mJB4_ch05</td>\n",
       "    </tr>\n",
       "    <tr>\n",
       "      <th>1</th>\n",
       "      <td>0.030213</td>\n",
       "      <td>0.019495</td>\n",
       "      <td>0.021670</td>\n",
       "      <td>0.099947</td>\n",
       "      <td>0.021792</td>\n",
       "      <td>0.727366</td>\n",
       "      <td>0.009668</td>\n",
       "      <td>0.016424</td>\n",
       "      <td>0.031419</td>\n",
       "      <td>0.022006</td>\n",
       "      <td>1215</td>\n",
       "      <td>Ballet Jazz</td>\n",
       "      <td>gJB_sFM_cAll_d09_mJB2_ch17</td>\n",
       "    </tr>\n",
       "    <tr>\n",
       "      <th>2</th>\n",
       "      <td>0.034757</td>\n",
       "      <td>0.018497</td>\n",
       "      <td>0.005563</td>\n",
       "      <td>0.007844</td>\n",
       "      <td>0.008731</td>\n",
       "      <td>0.748651</td>\n",
       "      <td>0.004077</td>\n",
       "      <td>0.006879</td>\n",
       "      <td>0.037206</td>\n",
       "      <td>0.127793</td>\n",
       "      <td>1205</td>\n",
       "      <td>Ballet Jazz</td>\n",
       "      <td>gJB_sFM_cAll_d09_mJB3_ch18</td>\n",
       "    </tr>\n",
       "    <tr>\n",
       "      <th>3</th>\n",
       "      <td>0.876464</td>\n",
       "      <td>0.007966</td>\n",
       "      <td>0.038532</td>\n",
       "      <td>0.014559</td>\n",
       "      <td>0.008963</td>\n",
       "      <td>0.025079</td>\n",
       "      <td>0.011941</td>\n",
       "      <td>0.001287</td>\n",
       "      <td>0.008566</td>\n",
       "      <td>0.006643</td>\n",
       "      <td>1209</td>\n",
       "      <td>Ballet Jazz</td>\n",
       "      <td>gJB_sFM_cAll_d07_mJB0_ch01</td>\n",
       "    </tr>\n",
       "    <tr>\n",
       "      <th>4</th>\n",
       "      <td>0.974399</td>\n",
       "      <td>0.002129</td>\n",
       "      <td>0.000921</td>\n",
       "      <td>0.000804</td>\n",
       "      <td>0.000478</td>\n",
       "      <td>0.013272</td>\n",
       "      <td>0.000605</td>\n",
       "      <td>0.001026</td>\n",
       "      <td>0.004221</td>\n",
       "      <td>0.002146</td>\n",
       "      <td>1201</td>\n",
       "      <td>Ballet Jazz</td>\n",
       "      <td>gJB_sFM_cAll_d09_mJB1_ch16</td>\n",
       "    </tr>\n",
       "  </tbody>\n",
       "</table>\n",
       "</div>"
      ],
      "text/plain": [
       "   Ballet Jazz     Break     House     Krump     LAhop      Lock    Midhop  \\\n",
       "0     0.083456  0.047125  0.017449  0.139542  0.034027  0.556116  0.008002   \n",
       "1     0.030213  0.019495  0.021670  0.099947  0.021792  0.727366  0.009668   \n",
       "2     0.034757  0.018497  0.005563  0.007844  0.008731  0.748651  0.004077   \n",
       "3     0.876464  0.007966  0.038532  0.014559  0.008963  0.025079  0.011941   \n",
       "4     0.974399  0.002129  0.000921  0.000804  0.000478  0.013272  0.000605   \n",
       "\n",
       "        Pop  Street Jazz     Waack  Original Index   True_Label  \\\n",
       "0  0.005815     0.093140  0.015329            1202  Ballet Jazz   \n",
       "1  0.016424     0.031419  0.022006            1215  Ballet Jazz   \n",
       "2  0.006879     0.037206  0.127793            1205  Ballet Jazz   \n",
       "3  0.001287     0.008566  0.006643            1209  Ballet Jazz   \n",
       "4  0.001026     0.004221  0.002146            1201  Ballet Jazz   \n",
       "\n",
       "                           id  \n",
       "0  gJB_sFM_cAll_d07_mJB4_ch05  \n",
       "1  gJB_sFM_cAll_d09_mJB2_ch17  \n",
       "2  gJB_sFM_cAll_d09_mJB3_ch18  \n",
       "3  gJB_sFM_cAll_d07_mJB0_ch01  \n",
       "4  gJB_sFM_cAll_d09_mJB1_ch16  "
      ]
     },
     "execution_count": 30,
     "metadata": {},
     "output_type": "execute_result"
    }
   ],
   "source": [
    "y_hatprob = xgb_mod.predict_proba(X_test)   #get probabilities, turn into dataframe, add original index, true label, and id\n",
    "yprobdf = pd.DataFrame(y_hatprob, columns=labels)   \n",
    "yprobdf['Original Index'] = index_lookup['original_index']\n",
    "yprobdf['True_Label'] = y_test.values\n",
    "yprobdf['id'] = test_ids.values\n",
    "yprobdf.head()"
   ]
  },
  {
   "cell_type": "code",
   "execution_count": 31,
   "metadata": {},
   "outputs": [],
   "source": [
    "#split into dfs by genre\n",
    "BJazzdf = yprobdf[yprobdf['True_Label']=='Ballet Jazz']\n",
    "Breakdf = yprobdf[yprobdf['True_Label']=='Break']\n",
    "Housedf = yprobdf[yprobdf['True_Label']=='House']\n",
    "Krumpdf = yprobdf[yprobdf['True_Label']=='Krump']\n",
    "LAhopdf = yprobdf[yprobdf['True_Label']=='LAhop']\n",
    "Lockdf = yprobdf[yprobdf['True_Label']=='Lock']\n",
    "Midhopdf = yprobdf[yprobdf['True_Label']=='Midhop']\n",
    "Popdf = yprobdf[yprobdf['True_Label']=='Pop']\n",
    "SJazzdf = yprobdf[yprobdf['True_Label']=='Street Jazz']\n",
    "Waackdf = yprobdf[yprobdf['True_Label']=='Waack']\n",
    "\n",
    "Genredfs = [BJazzdf, Breakdf, Housedf, Krumpdf, LAhopdf, Lockdf, Midhopdf, Popdf, SJazzdf, Waackdf]\n"
   ]
  },
  {
   "cell_type": "code",
   "execution_count": 32,
   "metadata": {},
   "outputs": [
    {
     "data": {
      "text/plain": [
       "([<matplotlib.axis.YTick at 0x7f5261819dc0>,\n",
       "  <matplotlib.axis.YTick at 0x7f5261819760>,\n",
       "  <matplotlib.axis.YTick at 0x7f5261816280>,\n",
       "  <matplotlib.axis.YTick at 0x7f526248c940>,\n",
       "  <matplotlib.axis.YTick at 0x7f526249ea30>,\n",
       "  <matplotlib.axis.YTick at 0x7f5262426520>,\n",
       "  <matplotlib.axis.YTick at 0x7f5262426fd0>,\n",
       "  <matplotlib.axis.YTick at 0x7f52624266d0>,\n",
       "  <matplotlib.axis.YTick at 0x7f526242c910>,\n",
       "  <matplotlib.axis.YTick at 0x7f5262433400>],\n",
       " [Text(0, 0, 'Ballet Jazz'),\n",
       "  Text(0, 1, 'Break'),\n",
       "  Text(0, 2, 'House'),\n",
       "  Text(0, 3, 'Krump'),\n",
       "  Text(0, 4, 'LAhop'),\n",
       "  Text(0, 5, 'Lock'),\n",
       "  Text(0, 6, 'Midhop'),\n",
       "  Text(0, 7, 'Pop'),\n",
       "  Text(0, 8, 'Street Jazz'),\n",
       "  Text(0, 9, 'Waack')])"
      ]
     },
     "execution_count": 32,
     "metadata": {},
     "output_type": "execute_result"
    },
    {
     "data": {
      "image/png": "[encoded data removed]",
      "text/plain": [
       "<Figure size 640x480 with 2 Axes>"
      ]
     },
     "metadata": {},
     "output_type": "display_data"
    }
   ],
   "source": [
    "import matplotlib.pyplot as plt\n",
    "from sklearn.metrics import confusion_matrix\n",
    "from sklearn.metrics import ConfusionMatrixDisplay\n",
    "ConfusionMatrixDisplay.from_estimator(xgb_mod, X_testxgb, y_testxgb)\n",
    "#change xticks and yticks to labels\n",
    "plt.xticks(ticks=[0,1,2,3,4,5,6,7,8,9], labels=labels, rotation=45, ha='right')\n",
    "plt.yticks(ticks=[0,1,2,3,4,5,6,7,8,9], labels=labels)\n"
   ]
  },
  {
   "cell_type": "code",
   "execution_count": 50,
   "metadata": {},
   "outputs": [
    {
     "name": "stdout",
     "output_type": "stream",
     "text": [
      "DanceObj.py\t XGB_Genreclass.py  __pycache__  data_proc.py  plots\t videos\n",
      "DanceObj_old.py  __init__.py\t    config.py\t notebooks     setup.py\n"
     ]
    }
   ],
   "source": [
    "!ls ../"
   ]
  },
  {
   "cell_type": "code",
   "execution_count": 63,
   "metadata": {},
   "outputs": [
    {
     "data": {
      "text/plain": [
       "<Figure size 1000x1000 with 0 Axes>"
      ]
     },
     "metadata": {},
     "output_type": "display_data"
    },
    {
     "data": {
      "text/plain": [
       "<AxesSubplot: title={'center': 'Ballet Jazz'}, ylabel='Probability'>"
      ]
     },
     "execution_count": 63,
     "metadata": {},
     "output_type": "execute_result"
    },
    {
     "data": {
      "image/png": "[encoded data removed]",
      "text/plain": [
       "<Figure size 400x200 with 1 Axes>"
      ]
     },
     "metadata": {},
     "output_type": "display_data"
    }
   ],
   "source": [
    "import matplotlib.pyplot as plt\n",
    "import seaborn as sns\n",
    "sns.set_style('whitegrid')\n",
    "plt.figure(figsize=(10,10))\n",
    "plt.show()\n",
    "dfBJ = BJazzdf.drop(['Original Index', 'True_Label', 'id'], axis=1)\n",
    "dfBJ.mean().plot(kind='bar', title='Ballet Jazz', color='blue', figsize=(4,2), ylim=(0,1), ylabel='Probability')\n",
    "\n"
   ]
  },
  {
   "cell_type": "code",
   "execution_count": 64,
   "metadata": {},
   "outputs": [
    {
     "data": {
      "image/png": "[encoded data removed]",
      "text/plain": [
       "<Figure size 400x200 with 1 Axes>"
      ]
     },
     "metadata": {},
     "output_type": "display_data"
    }
   ],
   "source": [
    "import matplotlib.pyplot as plt\n",
    "import seaborn as sns\n",
    "#remove original index, true label, and id for each house pieces, plt the mean probabiltiies\n",
    "sns.set_style('whitegrid')\n",
    "dfBJ = BJazzdf.drop(['Original Index', 'True_Label', 'id'], axis=1)\n",
    "dfBJ.mean().plot(kind='bar', title='Ballet Jazz', color='blue', figsize=(4,2), ylim=(0,1), ylabel='Probability')\n",
    "plt.savefig('../plots/proba_plots/BJazzprob.png')\n"
   ]
  },
  {
   "cell_type": "code",
   "execution_count": 52,
   "metadata": {},
   "outputs": [
    {
     "data": {
      "image/png": "[encoded data removed]",
      "text/plain": [
       "<Figure size 400x200 with 1 Axes>"
      ]
     },
     "metadata": {},
     "output_type": "display_data"
    }
   ],
   "source": [
    "dfBR = Breakdf.drop(['Original Index', 'True_Label', 'id'], axis=1)\n",
    "dfBR.mean().plot(kind='bar', title='Break', color='red', figsize=(4,2), ylim=(0,1), ylabel='Probability')\n",
    "#plot aethestic\n",
    "plt.\n",
    "plt.savefig('../plots/proba_plots/Breakprob.png')\n"
   ]
  },
  {
   "cell_type": "code",
   "execution_count": 53,
   "metadata": {},
   "outputs": [
    {
     "data": {
      "image/png": "[encoded data removed]",
      "text/plain": [
       "<Figure size 400x200 with 1 Axes>"
      ]
     },
     "metadata": {},
     "output_type": "display_data"
    }
   ],
   "source": [
    "dfHO = Housedf.drop(['Original Index', 'True_Label', 'id'], axis=1)\n",
    "dfHO.mean().plot(kind='bar', title='House', color='purple', figsize=(4,2), ylim=(0,1), ylabel='Probability')\n",
    "plt.savefig('../plots/proba_plots/Houseprob.png')"
   ]
  },
  {
   "cell_type": "code",
   "execution_count": 54,
   "metadata": {},
   "outputs": [
    {
     "data": {
      "image/png": "[encoded data removed]",
      "text/plain": [
       "<Figure size 400x200 with 1 Axes>"
      ]
     },
     "metadata": {},
     "output_type": "display_data"
    }
   ],
   "source": [
    "dfKR = Krumpdf.drop(['Original Index', 'True_Label', 'id'], axis=1)\n",
    "dfKR.mean().plot(kind='bar', title='Krump', color='darkslategray', figsize=(4,2), ylim=(0,1), ylabel='Probability')\n",
    "plt.savefig('../plots/proba_plots/Krumpprob.png')"
   ]
  },
  {
   "cell_type": "code",
   "execution_count": 55,
   "metadata": {},
   "outputs": [
    {
     "data": {
      "image/png": "[encoded data removed]",
      "text/plain": [
       "<Figure size 400x200 with 1 Axes>"
      ]
     },
     "metadata": {},
     "output_type": "display_data"
    }
   ],
   "source": [
    "dfLA = LAhopdf.drop(['Original Index', 'True_Label', 'id'], axis=1)\n",
    "dfLA.mean().plot(kind='bar', title='LA Hop', color='darkorange', figsize=(4,2), ylim=(0,1), ylabel='Probability')\n",
    "plt.savefig('../plots/proba_plots/LAprob.png')"
   ]
  },
  {
   "cell_type": "code",
   "execution_count": 56,
   "metadata": {},
   "outputs": [
    {
     "data": {
      "image/png": "[encoded data removed]",
      "text/plain": [
       "<Figure size 400x200 with 1 Axes>"
      ]
     },
     "metadata": {},
     "output_type": "display_data"
    }
   ],
   "source": [
    "dfLO = Lockdf.drop(['Original Index', 'True_Label', 'id'], axis=1)\n",
    "dfLO.mean().plot(kind='bar', title='Lock', color='greenyellow', figsize=(4,2), ylim=(0,1), ylabel='Probability')\n",
    "plt.savefig('../plots/proba_plots/Lockprob.png')"
   ]
  },
  {
   "cell_type": "code",
   "execution_count": 57,
   "metadata": {},
   "outputs": [
    {
     "data": {
      "image/png": "[encoded data removed]",
      "text/plain": [
       "<Figure size 400x200 with 1 Axes>"
      ]
     },
     "metadata": {},
     "output_type": "display_data"
    }
   ],
   "source": [
    "dfMI = Midhopdf.drop(['Original Index', 'True_Label', 'id'], axis=1)\n",
    "dfMI.mean().plot(kind='bar', title='Midhop', color='darkred', figsize=(4,2), ylim=(0,1), ylabel='Probability')\n",
    "plt.savefig('../plots/proba_plots/Midprob.png')"
   ]
  },
  {
   "cell_type": "code",
   "execution_count": 58,
   "metadata": {},
   "outputs": [
    {
     "data": {
      "image/png": "[encoded data removed]",
      "text/plain": [
       "<Figure size 400x200 with 1 Axes>"
      ]
     },
     "metadata": {},
     "output_type": "display_data"
    }
   ],
   "source": [
    "dfPO = Popdf.drop(['Original Index', 'True_Label', 'id'], axis=1)\n",
    "dfPO.mean().plot(kind='bar', title='Pop', color='darkblue', figsize=(4,2), ylim=(0,1), ylabel='Probability')\n",
    "plt.savefig('../plots/proba_plots/Popprob.png')"
   ]
  },
  {
   "cell_type": "code",
   "execution_count": 59,
   "metadata": {},
   "outputs": [
    {
     "data": {
      "image/png": "[encoded data removed]",
      "text/plain": [
       "<Figure size 400x200 with 1 Axes>"
      ]
     },
     "metadata": {},
     "output_type": "display_data"
    }
   ],
   "source": [
    "dfSJ = SJazzdf.drop(['Original Index', 'True_Label', 'id'], axis=1)\n",
    "dfSJ.mean().plot(kind='bar', title='Street Jazz', color='darkgreen', figsize=(4,2), ylim=(0,1), ylabel='Probability')\n",
    "plt.savefig('../plots/proba_plots/SJprob.png')"
   ]
  },
  {
   "cell_type": "code",
   "execution_count": 60,
   "metadata": {},
   "outputs": [
    {
     "data": {
      "image/png": "[encoded data removed]",
      "text/plain": [
       "<Figure size 400x200 with 1 Axes>"
      ]
     },
     "metadata": {},
     "output_type": "display_data"
    }
   ],
   "source": [
    "dfWA = Waackdf.drop(['Original Index', 'True_Label', 'id'], axis=1)\n",
    "dfWA.mean().plot(kind='bar', title='Waack', color='magenta', figsize=(4,2), ylim=(0,1), ylabel='Probability')\n",
    "plt.savefig('../plots/proba_plots/Waackprob.png')"
   ]
  },
  {
   "cell_type": "code",
   "execution_count": 36,
   "metadata": {},
   "outputs": [
    {
     "data": {
      "text/html": [
       "<div>\n",
       "<style scoped>\n",
       "    .dataframe tbody tr th:only-of-type {\n",
       "        vertical-align: middle;\n",
       "    }\n",
       "\n",
       "    .dataframe tbody tr th {\n",
       "        vertical-align: top;\n",
       "    }\n",
       "\n",
       "    .dataframe thead th {\n",
       "        text-align: right;\n",
       "    }\n",
       "</style>\n",
       "<table border=\"1\" class=\"dataframe\">\n",
       "  <thead>\n",
       "    <tr style=\"text-align: right;\">\n",
       "      <th></th>\n",
       "      <th>Expandedness</th>\n",
       "      <th>Expandedness_std</th>\n",
       "      <th>Expandednessvel</th>\n",
       "      <th>Expandednessvel_std</th>\n",
       "      <th>Expandednessacc</th>\n",
       "      <th>Expandednessacc_std</th>\n",
       "      <th>Asym_RL_vel</th>\n",
       "      <th>Asym_RL_acc</th>\n",
       "      <th>Asym_RL_jer</th>\n",
       "      <th>Asym_RL_vel_std</th>\n",
       "      <th>...</th>\n",
       "      <th>Contracorr_Relb_Lknee_height_jer</th>\n",
       "      <th>Contracorr_Relb_Lknee_prominencej1</th>\n",
       "      <th>Contracorr_Relb_Lknee_prominencej2</th>\n",
       "      <th>Contracorr_Relb_Lknee_prominencej3</th>\n",
       "      <th>Contracorr_Relb_Lknee_prominencej_std</th>\n",
       "      <th>Contracorr_Lelb_Rknee_heightjer</th>\n",
       "      <th>Contracorr_Lelb_Rknee_prominencej1</th>\n",
       "      <th>Contracorr_Lelb_Rknee_prominencej2</th>\n",
       "      <th>Contracorr_Lelb_Rknee_prominencej3</th>\n",
       "      <th>Contracorr_Lelb_Rknee_prominencej_std</th>\n",
       "    </tr>\n",
       "  </thead>\n",
       "  <tbody>\n",
       "    <tr>\n",
       "      <th>1202</th>\n",
       "      <td>-0.287615</td>\n",
       "      <td>0.255923</td>\n",
       "      <td>0.047981</td>\n",
       "      <td>0.593541</td>\n",
       "      <td>0.012614</td>\n",
       "      <td>0.756294</td>\n",
       "      <td>0.049036</td>\n",
       "      <td>-1.181280</td>\n",
       "      <td>0.535683</td>\n",
       "      <td>-0.220856</td>\n",
       "      <td>...</td>\n",
       "      <td>-0.431206</td>\n",
       "      <td>0.726546</td>\n",
       "      <td>0.706377</td>\n",
       "      <td>0.106083</td>\n",
       "      <td>1.357485</td>\n",
       "      <td>0.100669</td>\n",
       "      <td>0.051288</td>\n",
       "      <td>0.145323</td>\n",
       "      <td>0.292515</td>\n",
       "      <td>-0.229346</td>\n",
       "    </tr>\n",
       "    <tr>\n",
       "      <th>1215</th>\n",
       "      <td>-0.867918</td>\n",
       "      <td>0.205833</td>\n",
       "      <td>-0.158938</td>\n",
       "      <td>0.171978</td>\n",
       "      <td>-0.354685</td>\n",
       "      <td>0.105734</td>\n",
       "      <td>-0.033185</td>\n",
       "      <td>-0.521927</td>\n",
       "      <td>-1.252712</td>\n",
       "      <td>-0.190777</td>\n",
       "      <td>...</td>\n",
       "      <td>1.080689</td>\n",
       "      <td>0.287417</td>\n",
       "      <td>-0.350819</td>\n",
       "      <td>-0.449541</td>\n",
       "      <td>1.379088</td>\n",
       "      <td>-0.422480</td>\n",
       "      <td>-0.250737</td>\n",
       "      <td>-0.268950</td>\n",
       "      <td>-0.271445</td>\n",
       "      <td>-0.210412</td>\n",
       "    </tr>\n",
       "    <tr>\n",
       "      <th>1205</th>\n",
       "      <td>-1.199865</td>\n",
       "      <td>0.064041</td>\n",
       "      <td>0.134228</td>\n",
       "      <td>0.576403</td>\n",
       "      <td>-0.041979</td>\n",
       "      <td>0.506132</td>\n",
       "      <td>0.074480</td>\n",
       "      <td>0.312392</td>\n",
       "      <td>-0.027223</td>\n",
       "      <td>-0.189353</td>\n",
       "      <td>...</td>\n",
       "      <td>-0.454502</td>\n",
       "      <td>-0.141842</td>\n",
       "      <td>0.082741</td>\n",
       "      <td>0.224087</td>\n",
       "      <td>-0.681507</td>\n",
       "      <td>-0.459423</td>\n",
       "      <td>-0.346733</td>\n",
       "      <td>-0.314704</td>\n",
       "      <td>-0.267192</td>\n",
       "      <td>-0.402859</td>\n",
       "    </tr>\n",
       "    <tr>\n",
       "      <th>1209</th>\n",
       "      <td>-0.166201</td>\n",
       "      <td>0.200849</td>\n",
       "      <td>0.494698</td>\n",
       "      <td>0.410796</td>\n",
       "      <td>0.494799</td>\n",
       "      <td>0.758985</td>\n",
       "      <td>0.093586</td>\n",
       "      <td>0.149443</td>\n",
       "      <td>0.721648</td>\n",
       "      <td>-0.212831</td>\n",
       "      <td>...</td>\n",
       "      <td>3.132164</td>\n",
       "      <td>2.124262</td>\n",
       "      <td>2.292671</td>\n",
       "      <td>1.499052</td>\n",
       "      <td>2.274213</td>\n",
       "      <td>-0.084271</td>\n",
       "      <td>0.969835</td>\n",
       "      <td>1.334260</td>\n",
       "      <td>1.410017</td>\n",
       "      <td>0.347407</td>\n",
       "    </tr>\n",
       "    <tr>\n",
       "      <th>1201</th>\n",
       "      <td>-0.864146</td>\n",
       "      <td>0.165566</td>\n",
       "      <td>0.314377</td>\n",
       "      <td>0.740414</td>\n",
       "      <td>0.102676</td>\n",
       "      <td>0.956681</td>\n",
       "      <td>-0.654050</td>\n",
       "      <td>0.299353</td>\n",
       "      <td>-0.800012</td>\n",
       "      <td>0.341759</td>\n",
       "      <td>...</td>\n",
       "      <td>3.341772</td>\n",
       "      <td>2.468854</td>\n",
       "      <td>1.802622</td>\n",
       "      <td>2.135139</td>\n",
       "      <td>2.377316</td>\n",
       "      <td>0.405756</td>\n",
       "      <td>1.375144</td>\n",
       "      <td>2.100508</td>\n",
       "      <td>1.553713</td>\n",
       "      <td>1.190433</td>\n",
       "    </tr>\n",
       "  </tbody>\n",
       "</table>\n",
       "<p>5 rows × 104 columns</p>\n",
       "</div>"
      ],
      "text/plain": [
       "      Expandedness  Expandedness_std  Expandednessvel  Expandednessvel_std  \\\n",
       "1202     -0.287615          0.255923         0.047981             0.593541   \n",
       "1215     -0.867918          0.205833        -0.158938             0.171978   \n",
       "1205     -1.199865          0.064041         0.134228             0.576403   \n",
       "1209     -0.166201          0.200849         0.494698             0.410796   \n",
       "1201     -0.864146          0.165566         0.314377             0.740414   \n",
       "\n",
       "      Expandednessacc  Expandednessacc_std  Asym_RL_vel  Asym_RL_acc  \\\n",
       "1202         0.012614             0.756294     0.049036    -1.181280   \n",
       "1215        -0.354685             0.105734    -0.033185    -0.521927   \n",
       "1205        -0.041979             0.506132     0.074480     0.312392   \n",
       "1209         0.494799             0.758985     0.093586     0.149443   \n",
       "1201         0.102676             0.956681    -0.654050     0.299353   \n",
       "\n",
       "      Asym_RL_jer  Asym_RL_vel_std  ...  Contracorr_Relb_Lknee_height_jer  \\\n",
       "1202     0.535683        -0.220856  ...                         -0.431206   \n",
       "1215    -1.252712        -0.190777  ...                          1.080689   \n",
       "1205    -0.027223        -0.189353  ...                         -0.454502   \n",
       "1209     0.721648        -0.212831  ...                          3.132164   \n",
       "1201    -0.800012         0.341759  ...                          3.341772   \n",
       "\n",
       "      Contracorr_Relb_Lknee_prominencej1  Contracorr_Relb_Lknee_prominencej2  \\\n",
       "1202                            0.726546                            0.706377   \n",
       "1215                            0.287417                           -0.350819   \n",
       "1205                           -0.141842                            0.082741   \n",
       "1209                            2.124262                            2.292671   \n",
       "1201                            2.468854                            1.802622   \n",
       "\n",
       "      Contracorr_Relb_Lknee_prominencej3  \\\n",
       "1202                            0.106083   \n",
       "1215                           -0.449541   \n",
       "1205                            0.224087   \n",
       "1209                            1.499052   \n",
       "1201                            2.135139   \n",
       "\n",
       "      Contracorr_Relb_Lknee_prominencej_std  Contracorr_Lelb_Rknee_heightjer  \\\n",
       "1202                               1.357485                         0.100669   \n",
       "1215                               1.379088                        -0.422480   \n",
       "1205                              -0.681507                        -0.459423   \n",
       "1209                               2.274213                        -0.084271   \n",
       "1201                               2.377316                         0.405756   \n",
       "\n",
       "      Contracorr_Lelb_Rknee_prominencej1  Contracorr_Lelb_Rknee_prominencej2  \\\n",
       "1202                            0.051288                            0.145323   \n",
       "1215                           -0.250737                           -0.268950   \n",
       "1205                           -0.346733                           -0.314704   \n",
       "1209                            0.969835                            1.334260   \n",
       "1201                            1.375144                            2.100508   \n",
       "\n",
       "      Contracorr_Lelb_Rknee_prominencej3  \\\n",
       "1202                            0.292515   \n",
       "1215                           -0.271445   \n",
       "1205                           -0.267192   \n",
       "1209                            1.410017   \n",
       "1201                            1.553713   \n",
       "\n",
       "      Contracorr_Lelb_Rknee_prominencej_std  \n",
       "1202                              -0.229346  \n",
       "1215                              -0.210412  \n",
       "1205                              -0.402859  \n",
       "1209                               0.347407  \n",
       "1201                               1.190433  \n",
       "\n",
       "[5 rows x 104 columns]"
      ]
     },
     "execution_count": 36,
     "metadata": {},
     "output_type": "execute_result"
    }
   ],
   "source": [
    "# from sklearn.preprocessing import StandardScaler\n",
    "# #scale X_test and X_train\n",
    "# scaled_XTest = StandardScaler().fit_transform(X_test)\n",
    "# scaled_Xtrain = StandardScaler().fit_transform(X_train)\n",
    "\n",
    "# X_test = pd.DataFrame(scaled_XTest, index=X_test.index, columns=X_test.columns)\n",
    "# X_train = pd.DataFrame(scaled_Xtrain, index=X_train.index, columns=X_train.columns)\n",
    "# X_test.head()\n",
    "\n",
    "#scaling actually hurt performance for Ridge and XGB"
   ]
  },
  {
   "cell_type": "code",
   "execution_count": 52,
   "metadata": {},
   "outputs": [
    {
     "name": "stdout",
     "output_type": "stream",
     "text": [
      "(103, 10)\n",
      "Calibrated XGBoost is...worse? Score = 0.49514563106796117\n"
     ]
    }
   ],
   "source": [
    "from sklearn.calibration import CalibratedClassifierCV\n",
    "calibrxgb = CalibratedClassifierCV(xgb_mod, cv='prefit', method='sigmoid')\n",
    "\n",
    "calibrxgb.fit(X_valid, y_validxgb)\n",
    "y_hatpc = calibrxgb.predict_proba(X_test)\n",
    "print(y_hatpc.shape)\n",
    "print('Calibrated XGBoost is...worse? Score =',calibrxgb.score(X_test, y_testxgb))"
   ]
  },
  {
   "cell_type": "markdown",
   "metadata": {},
   "source": [
    "##### Now for auto-sklearn. The two main parameters for auto-sklearn are:   \n",
    "- time_left_for_this_task, optional (default=3600): Time limit in seconds for the search of appropriate models. By increasing this value, auto-sklearn has a higher chance of finding better models.  \n",
    "- per_run_time_limit, optional (default=1/10 of time_left_for_this_task): Time limit for a single call to the machine learning model. Model fitting will be terminated if the machine learning algorithm runs over the time limit. Set this value high enough so that typical machine learning algorithms can be fit on the training data.\n"
   ]
  },
  {
   "cell_type": "code",
   "execution_count": null,
   "metadata": {},
   "outputs": [],
   "source": [
    "#todo, edit below based on jupyter notebook from lab box"
   ]
  },
  {
   "cell_type": "code",
   "execution_count": null,
   "metadata": {},
   "outputs": [],
   "source": [
    "# Instantiate an automl classifier model object with time limits\n",
    "automl = autosklearn.classification.AutoSklearnClassifier(\n",
    "        time_left_for_this_task=400,\n",
    "        per_run_time_limit=50\n",
    ")\n",
    "\n",
    "# Fit the classifier to training data\n",
    "automl.fit(X_train, y_train)\n",
    "print('Score =', automl.score(X_test, y_test))"
   ]
  },
  {
   "cell_type": "code",
   "execution_count": null,
   "metadata": {},
   "outputs": [],
   "source": [
    "# Model search statistics\n",
    "print(automl.sprint_statistics())"
   ]
  },
  {
   "cell_type": "code",
   "execution_count": null,
   "metadata": {},
   "outputs": [],
   "source": [
    "# Model Description\n",
    "print(automl.show_models())"
   ]
  },
  {
   "cell_type": "code",
   "execution_count": null,
   "metadata": {},
   "outputs": [],
   "source": [
    "from sklearn.calibration import CalibratedClassifierCV\n",
    "calibr = CalibratedClassifierCV(automl, cv='prefit', method='isotonic')\n",
    "\n",
    "calibr.fit(X_valid, y_valid)\n",
    "y_hatp = calibr.predict_proba(X_test)"
   ]
  }
 ],
 "metadata": {
  "kernelspec": {
   "display_name": "Python 3.8.10 64-bit",
   "language": "python",
   "name": "python3"
  },
  "language_info": {
   "codemirror_mode": {
    "name": "ipython",
    "version": 3
   },
   "file_extension": ".py",
   "mimetype": "text/x-python",
   "name": "python",
   "nbconvert_exporter": "python",
   "pygments_lexer": "ipython3",
   "version": "3.8.10 (default, Jun 22 2022, 20:18:18) \n[GCC 9.4.0]"
  },
  "orig_nbformat": 4,
  "vscode": {
   "interpreter": {
    "hash": "916dbcbb3f70747c44a77c7bcd40155683ae19c65e1c03b4aa3499c5328201f1"
   }
  }
 },
 "nbformat": 4,
 "nbformat_minor": 2
}
