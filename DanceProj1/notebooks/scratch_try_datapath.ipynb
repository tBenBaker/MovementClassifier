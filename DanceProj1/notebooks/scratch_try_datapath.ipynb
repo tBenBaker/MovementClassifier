{
 "cells": [
  {
   "cell_type": "code",
   "execution_count": 2,
   "metadata": {},
   "outputs": [],
   "source": [
    "import pickle\n",
    "import glob\n",
    "import numpy as np\n",
    "import pandas as pd\n",
    "import sys\n",
    "sys.path.append(\"../../\")\n",
    "\n",
    "from DanceProj1.DanceObj import Dance\n",
    "\n",
    "path = '../../aist_keypoints' \n",
    "\n",
    "allfilenames = glob.glob(f'{path}/*')         \n",
    "#get lists of filenames per genre, basic and advanced\n",
    "breakfilesBM = glob.glob(f'{path}/gBR_sBM*')\n",
    "breakfilesFM = glob.glob(f'{path}/gBR_sFM*')\n",
    "popfilesBM = glob.glob(f'{path}/gPO_sBM*')\n",
    "popfilesFM = glob.glob(f'{path}/gPO_sFM*')\n",
    "lockfilesBM = glob.glob(f'{path}/gLO_sBM*')\n",
    "lockfilesFM = glob.glob(f'{path}/gLO_sFM*')\n",
    "midhopfilesBM = glob.glob(f'{path}/gMH_sBM*')\n",
    "midhopfilesFM = glob.glob(f'{path}/gMH_sFM*')\n",
    "lahopfilesBM = glob.glob(f'{path}/gLH_sBM*')\n",
    "lahopfilesFM = glob.glob(f'{path}/gLH_sFM*')\n",
    "housefilesBM = glob.glob(f'{path}/gHO_sBM*')\n",
    "housefilesFM = glob.glob(f'{path}/gHO_sFM*')\n",
    "waackfilesBM = glob.glob(f'{path}/gWA_sBM*')\n",
    "waackfilesFM = glob.glob(f'{path}/gWA_sFM*')\n",
    "krumpfilesBM = glob.glob(f'{path}/gKR_sBM*')\n",
    "krumpfilesFM = glob.glob(f'{path}/gKR_sFM*')\n",
    "sjazzfilesBM = glob.glob(f'{path}/gJS_sBM*')\n",
    "sjazzfilesFM = glob.glob(f'{path}/gJS_sFM*')\n",
    "bjazzfilesBM = glob.glob(f'{path}/gJB_sBM*')\n",
    "bjazzfilesFM = glob.glob(f'{path}/gJB_sFM*')\n",
    "\n",
    "#make list of lists of filesnames by basic/advanced\n",
    "genrefilesBM = [breakfilesBM, popfilesBM, lockfilesBM, midhopfilesBM, lahopfilesBM,\n",
    "                housefilesBM, waackfilesBM, krumpfilesBM, sjazzfilesBM, bjazzfilesBM]\n",
    "genrefilesFM = [breakfilesFM, popfilesFM, lockfilesFM, midhopfilesFM, lahopfilesFM, \n",
    "                housefilesFM, waackfilesFM, krumpfilesFM, sjazzfilesFM, bjazzfilesFM]"
   ]
  },
  {
   "cell_type": "code",
   "execution_count": 14,
   "metadata": {},
   "outputs": [
    {
     "name": "stdout",
     "output_type": "stream",
     "text": [
      "1199\n",
      "209\n"
     ]
    }
   ],
   "source": [
    "total = 0\n",
    "totalA = 0\n",
    "for i in genrefilesBM:\n",
    "    total+=len(i)\n",
    "\n",
    "print(total)\n",
    "\n",
    "for i in genrefilesFM:\n",
    "    totalA+=len(i)\n",
    "\n",
    "print(totalA)"
   ]
  },
  {
   "cell_type": "code",
   "execution_count": 3,
   "metadata": {},
   "outputs": [
    {
     "name": "stdout",
     "output_type": "stream",
     "text": [
      "100\n"
     ]
    }
   ],
   "source": [
    "vidpath = '../../GenreGuesser/videos'\n",
    "vidfiles = glob.glob(f'{vidpath}/*')\n",
    "print(len(vidfiles))"
   ]
  }
 ],
 "metadata": {
  "kernelspec": {
   "display_name": "Python 3.8.10 64-bit",
   "language": "python",
   "name": "python3"
  },
  "language_info": {
   "codemirror_mode": {
    "name": "ipython",
    "version": 3
   },
   "file_extension": ".py",
   "mimetype": "text/x-python",
   "name": "python",
   "nbconvert_exporter": "python",
   "pygments_lexer": "ipython3",
   "version": "3.8.10"
  },
  "orig_nbformat": 4,
  "vscode": {
   "interpreter": {
    "hash": "916dbcbb3f70747c44a77c7bcd40155683ae19c65e1c03b4aa3499c5328201f1"
   }
  }
 },
 "nbformat": 4,
 "nbformat_minor": 2
}
