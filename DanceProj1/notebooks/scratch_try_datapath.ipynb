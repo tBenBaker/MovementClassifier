{
 "cells": [
  {
   "cell_type": "code",
   "execution_count": 1,
   "metadata": {},
   "outputs": [],
   "source": [
    "import pickle\n",
    "import glob\n",
    "import numpy as np\n",
    "import pandas as pd\n",
    "import sys\n",
    "sys.path.append(\"../../\")\n",
    "\n",
    "from DanceProj1.DanceObj import Dance\n",
    "\n",
    "path = '../../aist_keypoints' \n",
    "\n",
    "allfilenames = glob.glob(f'{path}/*')         \n",
    "#get lists of filenames per genre, basic and advanced\n",
    "breakfilesBM = glob.glob(f'{path}/gBR_sBM*')\n",
    "breakfilesFM = glob.glob(f'{path}/gBR_sFM*')\n",
    "popfilesBM = glob.glob(f'{path}/gPO_sBM*')\n",
    "popfilesFM = glob.glob(f'{path}/gPO_sFM*')\n",
    "lockfilesBM = glob.glob(f'{path}/gLO_sBM*')\n",
    "lockfilesFM = glob.glob(f'{path}/gLO_sFM*')\n",
    "midhopfilesBM = glob.glob(f'{path}/gMH_sBM*')\n",
    "midhopfilesFM = glob.glob(f'{path}/gMH_sFM*')\n",
    "lahopfilesBM = glob.glob(f'{path}/gLH_sBM*')\n",
    "lahopfilesFM = glob.glob(f'{path}/gLH_sFM*')\n",
    "housefilesBM = glob.glob(f'{path}/gHO_sBM*')\n",
    "housefilesFM = glob.glob(f'{path}/gHO_sFM*')\n",
    "waackfilesBM = glob.glob(f'{path}/gWA_sBM*')\n",
    "waackfilesFM = glob.glob(f'{path}/gWA_sFM*')\n",
    "krumpfilesBM = glob.glob(f'{path}/gKR_sBM*')\n",
    "krumpfilesFM = glob.glob(f'{path}/gKR_sFM*')\n",
    "sjazzfilesBM = glob.glob(f'{path}/gJS_sBM*')\n",
    "sjazzfilesFM = glob.glob(f'{path}/gJS_sFM*')\n",
    "bjazzfilesBM = glob.glob(f'{path}/gJB_sBM*')\n",
    "bjazzfilesFM = glob.glob(f'{path}/gJB_sFM*')\n",
    "\n",
    "#make list of lists of filesnames by basic/advanced\n",
    "genrefilesBM = [breakfilesBM, popfilesBM, lockfilesBM, midhopfilesBM, lahopfilesBM,\n",
    "                housefilesBM, waackfilesBM, krumpfilesBM, sjazzfilesBM, bjazzfilesBM]\n",
    "genrefilesFM = [breakfilesFM, popfilesFM, lockfilesFM, midhopfilesFM, lahopfilesFM, \n",
    "                housefilesFM, waackfilesFM, krumpfilesFM, sjazzfilesFM, bjazzfilesFM]"
   ]
  },
  {
   "cell_type": "code",
   "execution_count": 22,
   "metadata": {},
   "outputs": [
    {
     "name": "stdout",
     "output_type": "stream",
     "text": [
      "1199\n",
      "199\n"
     ]
    }
   ],
   "source": [
    "dancesbm = 0\n",
    "dancesfm = 0\n",
    "for i in genrefilesBM:\n",
    "    dancesbm+=len(i)\n",
    "\n",
    "print(dancesbm)\n",
    "\n",
    "for i in genrefilesFM:\n",
    "    dancesfm+=len(i)\n",
    "\n",
    "print(dancesfm)"
   ]
  },
  {
   "cell_type": "code",
   "execution_count": 21,
   "metadata": {},
   "outputs": [
    {
     "data": {
      "text/plain": [
       "10"
      ]
     },
     "execution_count": 21,
     "metadata": {},
     "output_type": "execute_result"
    }
   ],
   "source": [
    "len(genrefilesBM)"
   ]
  },
  {
   "cell_type": "code",
   "execution_count": 24,
   "metadata": {},
   "outputs": [
    {
     "name": "stdout",
     "output_type": "stream",
     "text": [
      "36.51139028475712\n"
     ]
    }
   ],
   "source": [
    "#what do the data look like?\n",
    "#load in a file\n",
    "with open(breakfilesBM[0], 'rb') as f:\n",
    "    data = pickle.load(f)\n",
    "                            \n",
    "#data is a dictionary with keys: 'info', 'video', 'audio', 'pose'\n",
    "len(data['keypoints3d'])\n",
    "\n",
    "#len(['keypoints3d']) is the number of frames in that datapoint\n",
    "#I want to see the total number of frames in genrefilesBM\n",
    "#so I need to loop through each item in genrefilesBM and loop through each file  in that item, load it, count the length of ['keypoints3d'] and add it to a total\n",
    "\n",
    "# total = 0\n",
    "# for i in genrefilesBM:\n",
    "#     for j in i:\n",
    "#         with open(j, 'rb') as f:\n",
    "#             data = pickle.load(f)\n",
    "#         total+=len(data['keypoints3d'])\n",
    "# print(total)\n",
    "\n",
    "# avg = total/dancesbm\n",
    "# avgsec = avg/60\n",
    "# print(avgsec)\n",
    "\n",
    "#do the same thing for advances pieces\n",
    "total = 0\n",
    "for i in genrefilesFM:\n",
    "    for j in i:\n",
    "        with open(j, 'rb') as f:\n",
    "            data = pickle.load(f)\n",
    "        total+=len(data['keypoints3d'])\n",
    "\n",
    "avg = total/dancesfm\n",
    "avgsec = avg/60\n",
    "print(avgsec)"
   ]
  },
  {
   "cell_type": "code",
   "execution_count": 19,
   "metadata": {},
   "outputs": [
    {
     "name": "stdout",
     "output_type": "stream",
     "text": [
      "554.5954962468724\n"
     ]
    }
   ],
   "source": [
    "print(total / 1199)"
   ]
  },
  {
   "cell_type": "code",
   "execution_count": 10,
   "metadata": {},
   "outputs": [
    {
     "data": {
      "text/plain": [
       "120"
      ]
     },
     "execution_count": 10,
     "metadata": {},
     "output_type": "execute_result"
    }
   ],
   "source": [
    "len(genrefilesBM[0])\n",
    "#loop through all the items in genrefilesBM and add their lengths\n",
    "# total = 0\n",
    "# for i in genrefilesBM:\n",
    "#     total+=len(i)\n",
    "\n",
    "# print(total)\n"
   ]
  },
  {
   "cell_type": "code",
   "execution_count": 5,
   "metadata": {},
   "outputs": [
    {
     "data": {
      "text/plain": [
       "(443, 17, 3)"
      ]
     },
     "execution_count": 5,
     "metadata": {},
     "output_type": "execute_result"
    }
   ],
   "source": [
    "#look at shape of keypoints3d\n",
    "data['keypoints3d'].shape"
   ]
  },
  {
   "cell_type": "code",
   "execution_count": 3,
   "metadata": {},
   "outputs": [
    {
     "name": "stdout",
     "output_type": "stream",
     "text": [
      "100\n"
     ]
    }
   ],
   "source": [
    "vidpath = '../../GenreGuesser/videos'\n",
    "vidfiles = glob.glob(f'{vidpath}/*')\n",
    "print(len(vidfiles))"
   ]
  }
 ],
 "metadata": {
  "kernelspec": {
   "display_name": "Python 3.8.10 64-bit",
   "language": "python",
   "name": "python3"
  },
  "language_info": {
   "codemirror_mode": {
    "name": "ipython",
    "version": 3
   },
   "file_extension": ".py",
   "mimetype": "text/x-python",
   "name": "python",
   "nbconvert_exporter": "python",
   "pygments_lexer": "ipython3",
   "version": "3.8.10"
  },
  "orig_nbformat": 4,
  "vscode": {
   "interpreter": {
    "hash": "916dbcbb3f70747c44a77c7bcd40155683ae19c65e1c03b4aa3499c5328201f1"
   }
  }
 },
 "nbformat": 4,
 "nbformat_minor": 2
}
