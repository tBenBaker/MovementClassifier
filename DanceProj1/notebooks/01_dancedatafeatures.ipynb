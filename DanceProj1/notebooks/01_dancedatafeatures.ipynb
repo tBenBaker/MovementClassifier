{
 "cells": [
  {
   "cell_type": "markdown",
   "metadata": {},
   "source": [
    "Import basic tools and Dance Object, used for turning joint-position data into a dataframe of features"
   ]
  },
  {
   "cell_type": "code",
   "execution_count": 2,
   "metadata": {},
   "outputs": [],
   "source": [
    "import numpy as np\n",
    "import pandas as pd\n",
    "import sys\n",
    "sys.path.append(\"../../\")\n",
    "from DanceProj1.DanceObj import Dance"
   ]
  },
  {
   "attachments": {},
   "cell_type": "markdown",
   "metadata": {},
   "source": [
    "Use Dance class obj on data and make feature-dataframe. See data_proc.py for details."
   ]
  },
  {
   "cell_type": "code",
   "execution_count": 3,
   "metadata": {},
   "outputs": [],
   "source": [
    "from DanceProj1.data_proc import get_data\n",
    "\n",
    "aistpath = '../../aist_keypoints' #path to 3d keypoints data\n",
    "dataBM, dataFM = get_data(aistpath)    #get data. Comes with joint-position-frame arrays and an id"
   ]
  },
  {
   "cell_type": "markdown",
   "metadata": {},
   "source": [
    "Make sure data is loaded"
   ]
  },
  {
   "cell_type": "code",
   "execution_count": 4,
   "metadata": {},
   "outputs": [
    {
     "name": "stdout",
     "output_type": "stream",
     "text": [
      "data is dict with keys = genres dict_keys(['Break', 'Pop', 'Lock', 'Midhop', 'LAhop', 'House', 'Waack', 'Krump', 'Street Jazz', 'Ballet Jazz'])\n",
      "values are tuples (pairs) = (posdata, id)\n",
      "first break piece data shape (frames, joints, xyz): (15, 443, 3)\n",
      "id of first break piece:  gBR_sBM_cAll_d05_mBR5_ch10\n"
     ]
    }
   ],
   "source": [
    "print('data is dict with keys = genres', dataBM.keys())\n",
    "print('values are tuples (pairs) = (posdata, id)')\n",
    "print('first break piece data shape (frames, joints, xyz):', dataBM['Break'][0][0].shape)\n",
    "print('id of first break piece: ', dataBM['Break'][0][1])"
   ]
  },
  {
   "attachments": {},
   "cell_type": "markdown",
   "metadata": {},
   "source": [
    "Turn the data into Dance objects. This is a class that has methods for computing features. See DanceObj.py for details - it is contained in data_to_features."
   ]
  },
  {
   "cell_type": "code",
   "execution_count": 5,
   "metadata": {},
   "outputs": [],
   "source": [
    "from DanceProj1.data_proc import data_to_features\n",
    "\n",
    "dfBM, dfFM = data_to_features(dataBM, dataFM)"
   ]
  },
  {
   "cell_type": "code",
   "execution_count": 6,
   "metadata": {},
   "outputs": [
    {
     "name": "stdout",
     "output_type": "stream",
     "text": [
      "There are 200 Advanced sequences and 1199 Basic sequences\n"
     ]
    }
   ],
   "source": [
    "print('There are', len(dfFM.index), 'Advanced sequences and', len(dfBM.index), 'Basic sequences')"
   ]
  },
  {
   "cell_type": "markdown",
   "metadata": {},
   "source": [
    "Check the dataframes"
   ]
  },
  {
   "cell_type": "code",
   "execution_count": 5,
   "metadata": {},
   "outputs": [
    {
     "data": {
      "text/html": [
       "<div>\n",
       "<style scoped>\n",
       "    .dataframe tbody tr th:only-of-type {\n",
       "        vertical-align: middle;\n",
       "    }\n",
       "\n",
       "    .dataframe tbody tr th {\n",
       "        vertical-align: top;\n",
       "    }\n",
       "\n",
       "    .dataframe thead th {\n",
       "        text-align: right;\n",
       "    }\n",
       "</style>\n",
       "<table border=\"1\" class=\"dataframe\">\n",
       "  <thead>\n",
       "    <tr style=\"text-align: right;\">\n",
       "      <th></th>\n",
       "      <th>Expandedness</th>\n",
       "      <th>Expandedness_std</th>\n",
       "      <th>Expandednessvel</th>\n",
       "      <th>Expandednessvel_std</th>\n",
       "      <th>Expandednessacc</th>\n",
       "      <th>Expandednessacc_std</th>\n",
       "      <th>Asym_RL_vel</th>\n",
       "      <th>Asym_RL_acc</th>\n",
       "      <th>Asym_RL_jer</th>\n",
       "      <th>Asym_RL_vel_std</th>\n",
       "      <th>...</th>\n",
       "      <th>Contracorr_Relb_Lknee_prominencej2</th>\n",
       "      <th>Contracorr_Relb_Lknee_prominencej3</th>\n",
       "      <th>Contracorr_Relb_Lknee_prominencej_std</th>\n",
       "      <th>Contracorr_Lelb_Rknee_heightjer</th>\n",
       "      <th>Contracorr_Lelb_Rknee_prominencej1</th>\n",
       "      <th>Contracorr_Lelb_Rknee_prominencej2</th>\n",
       "      <th>Contracorr_Lelb_Rknee_prominencej3</th>\n",
       "      <th>Contracorr_Lelb_Rknee_prominencej_std</th>\n",
       "      <th>id</th>\n",
       "      <th>Genre</th>\n",
       "    </tr>\n",
       "  </thead>\n",
       "  <tbody>\n",
       "    <tr>\n",
       "      <th>0</th>\n",
       "      <td>1067.622148</td>\n",
       "      <td>50.415361</td>\n",
       "      <td>1397.204275</td>\n",
       "      <td>542.206065</td>\n",
       "      <td>7089.581203</td>\n",
       "      <td>2361.043942</td>\n",
       "      <td>-17940.791032</td>\n",
       "      <td>811.601870</td>\n",
       "      <td>-1632.939728</td>\n",
       "      <td>148.244525</td>\n",
       "      <td>...</td>\n",
       "      <td>5.596054e+08</td>\n",
       "      <td>4.063632e+08</td>\n",
       "      <td>9.199850e+07</td>\n",
       "      <td>1.587455e+08</td>\n",
       "      <td>3.348337e+08</td>\n",
       "      <td>3.047836e+08</td>\n",
       "      <td>2.417569e+08</td>\n",
       "      <td>3.878523e+07</td>\n",
       "      <td>gBR_sBM_cAll_d05_mBR5_ch10</td>\n",
       "      <td>Break</td>\n",
       "    </tr>\n",
       "    <tr>\n",
       "      <th>1</th>\n",
       "      <td>1083.575293</td>\n",
       "      <td>142.153402</td>\n",
       "      <td>1524.272988</td>\n",
       "      <td>333.127678</td>\n",
       "      <td>8006.105192</td>\n",
       "      <td>1837.480984</td>\n",
       "      <td>-233.891560</td>\n",
       "      <td>-1062.808853</td>\n",
       "      <td>321.412257</td>\n",
       "      <td>4.441060</td>\n",
       "      <td>...</td>\n",
       "      <td>6.038276e+08</td>\n",
       "      <td>5.554508e+08</td>\n",
       "      <td>1.250955e+08</td>\n",
       "      <td>1.300953e+08</td>\n",
       "      <td>8.625915e+08</td>\n",
       "      <td>6.590568e+08</td>\n",
       "      <td>6.263198e+08</td>\n",
       "      <td>1.045214e+08</td>\n",
       "      <td>gBR_sBM_cAll_d05_mBR1_ch03</td>\n",
       "      <td>Break</td>\n",
       "    </tr>\n",
       "    <tr>\n",
       "      <th>2</th>\n",
       "      <td>985.561049</td>\n",
       "      <td>104.975424</td>\n",
       "      <td>1907.621137</td>\n",
       "      <td>872.391745</td>\n",
       "      <td>8871.908429</td>\n",
       "      <td>2859.032792</td>\n",
       "      <td>-976.843869</td>\n",
       "      <td>-638.915156</td>\n",
       "      <td>-1542.022144</td>\n",
       "      <td>5.080327</td>\n",
       "      <td>...</td>\n",
       "      <td>4.701707e+08</td>\n",
       "      <td>3.745193e+08</td>\n",
       "      <td>6.341358e+07</td>\n",
       "      <td>4.185444e+08</td>\n",
       "      <td>8.902319e+08</td>\n",
       "      <td>6.626244e+08</td>\n",
       "      <td>6.419400e+08</td>\n",
       "      <td>1.124880e+08</td>\n",
       "      <td>gBR_sBM_cAll_d06_mBR3_ch09</td>\n",
       "      <td>Break</td>\n",
       "    </tr>\n",
       "    <tr>\n",
       "      <th>3</th>\n",
       "      <td>1020.270512</td>\n",
       "      <td>80.674363</td>\n",
       "      <td>2902.893592</td>\n",
       "      <td>874.548784</td>\n",
       "      <td>13713.203307</td>\n",
       "      <td>3345.844442</td>\n",
       "      <td>-439.064842</td>\n",
       "      <td>-49.327036</td>\n",
       "      <td>-307.920736</td>\n",
       "      <td>3.059820</td>\n",
       "      <td>...</td>\n",
       "      <td>7.964929e+08</td>\n",
       "      <td>5.529205e+08</td>\n",
       "      <td>2.676955e+08</td>\n",
       "      <td>3.259697e+08</td>\n",
       "      <td>7.382507e+08</td>\n",
       "      <td>5.326464e+08</td>\n",
       "      <td>2.906787e+08</td>\n",
       "      <td>1.829214e+08</td>\n",
       "      <td>gBR_sBM_cAll_d06_mBR2_ch08</td>\n",
       "      <td>Break</td>\n",
       "    </tr>\n",
       "    <tr>\n",
       "      <th>4</th>\n",
       "      <td>1107.946863</td>\n",
       "      <td>49.744991</td>\n",
       "      <td>1201.883329</td>\n",
       "      <td>435.443006</td>\n",
       "      <td>5814.821126</td>\n",
       "      <td>2057.817243</td>\n",
       "      <td>4432.851877</td>\n",
       "      <td>-357.711355</td>\n",
       "      <td>-392.961267</td>\n",
       "      <td>37.383511</td>\n",
       "      <td>...</td>\n",
       "      <td>2.086062e+08</td>\n",
       "      <td>1.969258e+08</td>\n",
       "      <td>4.661264e+07</td>\n",
       "      <td>9.989042e+07</td>\n",
       "      <td>2.320892e+08</td>\n",
       "      <td>1.750242e+08</td>\n",
       "      <td>1.681763e+08</td>\n",
       "      <td>2.865146e+07</td>\n",
       "      <td>gBR_sBM_cAll_d05_mBR4_ch10</td>\n",
       "      <td>Break</td>\n",
       "    </tr>\n",
       "  </tbody>\n",
       "</table>\n",
       "<p>5 rows × 106 columns</p>\n",
       "</div>"
      ],
      "text/plain": [
       "   Expandedness  Expandedness_std  Expandednessvel  Expandednessvel_std  \\\n",
       "0   1067.622148         50.415361      1397.204275           542.206065   \n",
       "1   1083.575293        142.153402      1524.272988           333.127678   \n",
       "2    985.561049        104.975424      1907.621137           872.391745   \n",
       "3   1020.270512         80.674363      2902.893592           874.548784   \n",
       "4   1107.946863         49.744991      1201.883329           435.443006   \n",
       "\n",
       "   Expandednessacc  Expandednessacc_std   Asym_RL_vel  Asym_RL_acc  \\\n",
       "0      7089.581203          2361.043942 -17940.791032   811.601870   \n",
       "1      8006.105192          1837.480984   -233.891560 -1062.808853   \n",
       "2      8871.908429          2859.032792   -976.843869  -638.915156   \n",
       "3     13713.203307          3345.844442   -439.064842   -49.327036   \n",
       "4      5814.821126          2057.817243   4432.851877  -357.711355   \n",
       "\n",
       "   Asym_RL_jer  Asym_RL_vel_std  ...  Contracorr_Relb_Lknee_prominencej2  \\\n",
       "0 -1632.939728       148.244525  ...                        5.596054e+08   \n",
       "1   321.412257         4.441060  ...                        6.038276e+08   \n",
       "2 -1542.022144         5.080327  ...                        4.701707e+08   \n",
       "3  -307.920736         3.059820  ...                        7.964929e+08   \n",
       "4  -392.961267        37.383511  ...                        2.086062e+08   \n",
       "\n",
       "   Contracorr_Relb_Lknee_prominencej3  Contracorr_Relb_Lknee_prominencej_std  \\\n",
       "0                        4.063632e+08                           9.199850e+07   \n",
       "1                        5.554508e+08                           1.250955e+08   \n",
       "2                        3.745193e+08                           6.341358e+07   \n",
       "3                        5.529205e+08                           2.676955e+08   \n",
       "4                        1.969258e+08                           4.661264e+07   \n",
       "\n",
       "   Contracorr_Lelb_Rknee_heightjer  Contracorr_Lelb_Rknee_prominencej1  \\\n",
       "0                     1.587455e+08                        3.348337e+08   \n",
       "1                     1.300953e+08                        8.625915e+08   \n",
       "2                     4.185444e+08                        8.902319e+08   \n",
       "3                     3.259697e+08                        7.382507e+08   \n",
       "4                     9.989042e+07                        2.320892e+08   \n",
       "\n",
       "   Contracorr_Lelb_Rknee_prominencej2  Contracorr_Lelb_Rknee_prominencej3  \\\n",
       "0                        3.047836e+08                        2.417569e+08   \n",
       "1                        6.590568e+08                        6.263198e+08   \n",
       "2                        6.626244e+08                        6.419400e+08   \n",
       "3                        5.326464e+08                        2.906787e+08   \n",
       "4                        1.750242e+08                        1.681763e+08   \n",
       "\n",
       "   Contracorr_Lelb_Rknee_prominencej_std                          id  Genre  \n",
       "0                           3.878523e+07  gBR_sBM_cAll_d05_mBR5_ch10  Break  \n",
       "1                           1.045214e+08  gBR_sBM_cAll_d05_mBR1_ch03  Break  \n",
       "2                           1.124880e+08  gBR_sBM_cAll_d06_mBR3_ch09  Break  \n",
       "3                           1.829214e+08  gBR_sBM_cAll_d06_mBR2_ch08  Break  \n",
       "4                           2.865146e+07  gBR_sBM_cAll_d05_mBR4_ch10  Break  \n",
       "\n",
       "[5 rows x 106 columns]"
      ]
     },
     "execution_count": 5,
     "metadata": {},
     "output_type": "execute_result"
    }
   ],
   "source": [
    "print('There are 104 features, plus the genre and id columns')\n",
    "dfBM.head()"
   ]
  }
 ],
 "metadata": {
  "kernelspec": {
   "display_name": "Python 3.8.10 64-bit",
   "language": "python",
   "name": "python3"
  },
  "language_info": {
   "codemirror_mode": {
    "name": "ipython",
    "version": 3
   },
   "file_extension": ".py",
   "mimetype": "text/x-python",
   "name": "python",
   "nbconvert_exporter": "python",
   "pygments_lexer": "ipython3",
   "version": "3.8.10"
  },
  "orig_nbformat": 4,
  "vscode": {
   "interpreter": {
    "hash": "916dbcbb3f70747c44a77c7bcd40155683ae19c65e1c03b4aa3499c5328201f1"
   }
  }
 },
 "nbformat": 4,
 "nbformat_minor": 2
}
